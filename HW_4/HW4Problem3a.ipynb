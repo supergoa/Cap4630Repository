{
  "nbformat": 4,
  "nbformat_minor": 0,
  "metadata": {
    "colab": {
      "name": "HW4Problem3a.ipynb",
      "provenance": [],
      "collapsed_sections": [],
      "authorship_tag": "ABX9TyNTNg2bWpgbMmy+hnE4rCtR",
      "include_colab_link": true
    },
    "kernelspec": {
      "name": "python3",
      "display_name": "Python 3"
    },
    "accelerator": "GPU"
  },
  "cells": [
    {
      "cell_type": "markdown",
      "metadata": {
        "id": "view-in-github",
        "colab_type": "text"
      },
      "source": [
        "<a href=\"https://colab.research.google.com/github/supergoa/Cap4630Repository/blob/master/HW_4/HW4Problem3a.ipynb\" target=\"_parent\"><img src=\"https://colab.research.google.com/assets/colab-badge.svg\" alt=\"Open In Colab\"/></a>"
      ]
    },
    {
      "cell_type": "markdown",
      "metadata": {
        "id": "KSrgMJ5vKFzQ",
        "colab_type": "text"
      },
      "source": [
        "# Fine-tuning VGG16 "
      ]
    },
    {
      "cell_type": "markdown",
      "metadata": {
        "id": "TIW7bZaAK-Hf",
        "colab_type": "text"
      },
      "source": [
        "This is based on section 5.3 *Using a pretrained convnet* of the book *Deep learning with Python* by Francois Chollet. I have made several changes to the code. I use the data that is already provided by Google. I don't download the data from Kaggle as in the deep learning book."
      ]
    },
    {
      "cell_type": "markdown",
      "metadata": {
        "id": "nsBq__dVo2pj",
        "colab_type": "text"
      },
      "source": [
        "## Feature extraction"
      ]
    },
    {
      "cell_type": "markdown",
      "metadata": {
        "id": "0g6ETAM9o54M",
        "colab_type": "text"
      },
      "source": [
        "Feature extraction consists of using the representations learned by a previous network to extract interesting features from new samples. These features are then run through a new classifier, which is trained from scratch.\n",
        "\n",
        "We will use here the convolutional base of the VGG16 model to extract the features. We will feed these features to a densely connected classifier with dropout. We will fine-tune some layers."
      ]
    },
    {
      "cell_type": "markdown",
      "metadata": {
        "id": "BqIG8QHMLNOn",
        "colab_type": "text"
      },
      "source": [
        "## Download the data"
      ]
    },
    {
      "cell_type": "markdown",
      "metadata": {
        "id": "t3I1jd7cKV6_",
        "colab_type": "text"
      },
      "source": [
        "Download the example data, a zip. of 2,000 JPG pictures of cats and dogs and extract it locally in ```/tmp```.\n",
        "\n"
      ]
    },
    {
      "cell_type": "code",
      "metadata": {
        "id": "JWjprHEXJ5Qi",
        "colab_type": "code",
        "outputId": "4a5edcc9-2609-4892-fbce-7b53fa29264d",
        "colab": {
          "base_uri": "https://localhost:8080/",
          "height": 202
        }
      },
      "source": [
        "!wget --no-check-certificate \\\n",
        "    https://storage.googleapis.com/mledu-datasets/cats_and_dogs_filtered.zip \\\n",
        "    -O /tmp/cats_and_dogs_filtered.zip"
      ],
      "execution_count": 0,
      "outputs": [
        {
          "output_type": "stream",
          "text": [
            "--2020-04-20 21:14:00--  https://storage.googleapis.com/mledu-datasets/cats_and_dogs_filtered.zip\n",
            "Resolving storage.googleapis.com (storage.googleapis.com)... 172.217.214.128, 2607:f8b0:4001:c05::80\n",
            "Connecting to storage.googleapis.com (storage.googleapis.com)|172.217.214.128|:443... connected.\n",
            "HTTP request sent, awaiting response... 200 OK\n",
            "Length: 68606236 (65M) [application/zip]\n",
            "Saving to: ‘/tmp/cats_and_dogs_filtered.zip’\n",
            "\n",
            "/tmp/cats_and_dogs_ 100%[===================>]  65.43M   196MB/s    in 0.3s    \n",
            "\n",
            "2020-04-20 21:14:00 (196 MB/s) - ‘/tmp/cats_and_dogs_filtered.zip’ saved [68606236/68606236]\n",
            "\n"
          ],
          "name": "stdout"
        }
      ]
    },
    {
      "cell_type": "code",
      "metadata": {
        "id": "WvoHtdA-K6Rw",
        "colab_type": "code",
        "colab": {}
      },
      "source": [
        "import os\n",
        "import zipfile\n",
        "\n",
        "local_zip = '/tmp/cats_and_dogs_filtered.zip'\n",
        "zip_ref = zipfile.ZipFile(local_zip, 'r')\n",
        "zip_ref.extractall('/tmp')\n",
        "zip_ref.close()"
      ],
      "execution_count": 0,
      "outputs": []
    },
    {
      "cell_type": "markdown",
      "metadata": {
        "id": "shZiOBnJMyy_",
        "colab_type": "text"
      },
      "source": [
        "Note that the data provided by Google does not have a test set."
      ]
    },
    {
      "cell_type": "code",
      "metadata": {
        "id": "dL8ikM89LlsH",
        "colab_type": "code",
        "colab": {}
      },
      "source": [
        "base_dir = '/tmp/cats_and_dogs_filtered'\n",
        "train_dir = os.path.join(base_dir, 'train')\n",
        "validation_dir = os.path.join(base_dir, 'validation')\n",
        "\n",
        "# Directory with our training cat pictures\n",
        "train_cats_dir = os.path.join(train_dir, 'cats')\n",
        "\n",
        "# Directory with our training dog pictures\n",
        "train_dogs_dir = os.path.join(train_dir, 'dogs')\n",
        "\n",
        "# Directory with our validation cat pictures\n",
        "validation_cats_dir = os.path.join(validation_dir, 'cats')\n",
        "\n",
        "# Directory with our validation dog pictures\n",
        "validation_dogs_dir = os.path.join(validation_dir, 'dogs')"
      ],
      "execution_count": 0,
      "outputs": []
    },
    {
      "cell_type": "markdown",
      "metadata": {
        "id": "inyP8bcdXnn-",
        "colab_type": "text"
      },
      "source": [
        "## Build network with Xception convolution base and custom densely connected layers"
      ]
    },
    {
      "cell_type": "markdown",
      "metadata": {
        "id": "kQ48W5T9rHWu",
        "colab_type": "text"
      },
      "source": [
        "### Load the convolutional base"
      ]
    },
    {
      "cell_type": "code",
      "metadata": {
        "id": "Y0FgtANCXm_H",
        "colab_type": "code",
        "outputId": "c25bad8f-a7c2-4e17-9c94-15e18e829b3a",
        "colab": {
          "base_uri": "https://localhost:8080/",
          "height": 87
        }
      },
      "source": [
        "from keras.applications import Xception\n",
        "\n",
        "conv_base = Xception(\n",
        "    weights='imagenet', \n",
        "    include_top=False, \n",
        "    input_shape=(150, 150, 3))"
      ],
      "execution_count": 0,
      "outputs": [
        {
          "output_type": "stream",
          "text": [
            "Using TensorFlow backend.\n"
          ],
          "name": "stderr"
        },
        {
          "output_type": "stream",
          "text": [
            "Downloading data from https://github.com/fchollet/deep-learning-models/releases/download/v0.4/xception_weights_tf_dim_ordering_tf_kernels_notop.h5\n",
            "83689472/83683744 [==============================] - 1s 0us/step\n"
          ],
          "name": "stdout"
        }
      ]
    },
    {
      "cell_type": "markdown",
      "metadata": {
        "id": "D6OBHOO9q1ou",
        "colab_type": "text"
      },
      "source": [
        "### Freeze the convolutional base"
      ]
    },
    {
      "cell_type": "code",
      "metadata": {
        "id": "UleRo4Dpq6Ld",
        "colab_type": "code",
        "colab": {}
      },
      "source": [
        "conv_base.trainable = False"
      ],
      "execution_count": 0,
      "outputs": []
    },
    {
      "cell_type": "markdown",
      "metadata": {
        "id": "Qfx6PqhPrb7Q",
        "colab_type": "text"
      },
      "source": [
        "### Concatenate the convolutional base and densely connected layers"
      ]
    },
    {
      "cell_type": "code",
      "metadata": {
        "id": "qUpmocDAO3xm",
        "colab_type": "code",
        "colab": {}
      },
      "source": [
        "from keras import layers\n",
        "from keras import models\n",
        "from keras import optimizers\n",
        "\n",
        "model = models.Sequential()\n",
        "model.add(conv_base)\n",
        "model.add(layers.Flatten())\n",
        "model.add(layers.Dense(256, activation='relu'))\n",
        "#model.add(layers.Dropout(0.1))\n",
        "model.add(layers.Dense(1, activation='sigmoid'))"
      ],
      "execution_count": 0,
      "outputs": []
    },
    {
      "cell_type": "code",
      "metadata": {
        "id": "Fh6gZSeAjF7c",
        "colab_type": "code",
        "outputId": "7afb657e-a1f0-47db-a275-38064953ebcb",
        "colab": {
          "base_uri": "https://localhost:8080/",
          "height": 286
        }
      },
      "source": [
        "model.summary()"
      ],
      "execution_count": 0,
      "outputs": [
        {
          "output_type": "stream",
          "text": [
            "Model: \"sequential_1\"\n",
            "_________________________________________________________________\n",
            "Layer (type)                 Output Shape              Param #   \n",
            "=================================================================\n",
            "xception (Model)             (None, 5, 5, 2048)        20861480  \n",
            "_________________________________________________________________\n",
            "flatten_1 (Flatten)          (None, 51200)             0         \n",
            "_________________________________________________________________\n",
            "dense_1 (Dense)              (None, 256)               13107456  \n",
            "_________________________________________________________________\n",
            "dense_2 (Dense)              (None, 1)                 257       \n",
            "=================================================================\n",
            "Total params: 33,969,193\n",
            "Trainable params: 13,107,713\n",
            "Non-trainable params: 20,861,480\n",
            "_________________________________________________________________\n"
          ],
          "name": "stdout"
        }
      ]
    },
    {
      "cell_type": "markdown",
      "metadata": {
        "id": "eZjBiddhi5Qj",
        "colab_type": "text"
      },
      "source": [
        "## Train the model end to end with frozen convolutional base"
      ]
    },
    {
      "cell_type": "code",
      "metadata": {
        "id": "tfAQlC2Oi41L",
        "colab_type": "code",
        "outputId": "2435a0f8-04c0-4400-eed3-cb08b97a021a",
        "colab": {
          "base_uri": "https://localhost:8080/",
          "height": 1000
        }
      },
      "source": [
        "from keras.preprocessing.image import ImageDataGenerator\n",
        "from keras import optimizers\n",
        "\n",
        "# data augmentation\n",
        "\n",
        "train_datagen = ImageDataGenerator(\n",
        "    rescale=1./255, \n",
        "    rotation_range=40,\n",
        "    width_shift_range=0.2,\n",
        "    height_shift_range=0.2,\n",
        "    shear_range=0.2,\n",
        "    zoom_range=0.2,\n",
        "    horizontal_flip=True,\n",
        "    fill_mode='nearest'\n",
        ")\n",
        "\n",
        "train_generator = train_datagen.flow_from_directory(\n",
        "    train_dir,\n",
        "    target_size=(150, 150),\n",
        "    batch_size=20,\n",
        "    class_mode='binary')\n",
        "\n",
        "validation_datagen = ImageDataGenerator(rescale=1./255)\n",
        "\n",
        "validation_generator = validation_datagen.flow_from_directory(\n",
        "    validation_dir,\n",
        "    target_size=(150, 150),\n",
        "    batch_size=20,\n",
        "    class_mode='binary')\n",
        "\n",
        "# compile model\n",
        "\n",
        "model.compile(\n",
        "    loss='binary_crossentropy', \n",
        "    optimizer=optimizers.RMSprop(lr=2e-5), \n",
        "    metrics=['acc'])\n",
        "\n",
        "# train\n",
        "\n",
        "history = model.fit_generator(\n",
        "    train_generator,\n",
        "    steps_per_epoch=100,\n",
        "    epochs=30,\n",
        "    validation_data=validation_generator,\n",
        "    validation_steps=50\n",
        ")"
      ],
      "execution_count": 0,
      "outputs": [
        {
          "output_type": "stream",
          "text": [
            "Found 2000 images belonging to 2 classes.\n",
            "Found 1000 images belonging to 2 classes.\n",
            "Epoch 1/30\n",
            "100/100 [==============================] - 26s 260ms/step - loss: 0.4794 - acc: 0.7705 - val_loss: 0.1251 - val_acc: 0.9590\n",
            "Epoch 2/30\n",
            "100/100 [==============================] - 17s 174ms/step - loss: 0.3670 - acc: 0.8250 - val_loss: 0.0860 - val_acc: 0.9660\n",
            "Epoch 3/30\n",
            "100/100 [==============================] - 17s 171ms/step - loss: 0.3406 - acc: 0.8480 - val_loss: 0.0016 - val_acc: 0.9640\n",
            "Epoch 4/30\n",
            "100/100 [==============================] - 17s 175ms/step - loss: 0.3514 - acc: 0.8450 - val_loss: 0.1155 - val_acc: 0.9660\n",
            "Epoch 5/30\n",
            "100/100 [==============================] - 18s 180ms/step - loss: 0.3216 - acc: 0.8520 - val_loss: 0.0022 - val_acc: 0.9700\n",
            "Epoch 6/30\n",
            "100/100 [==============================] - 18s 181ms/step - loss: 0.3143 - acc: 0.8560 - val_loss: 0.2343 - val_acc: 0.9570\n",
            "Epoch 7/30\n",
            "100/100 [==============================] - 17s 172ms/step - loss: 0.3153 - acc: 0.8705 - val_loss: 0.0034 - val_acc: 0.9710\n",
            "Epoch 8/30\n",
            "100/100 [==============================] - 17s 172ms/step - loss: 0.3422 - acc: 0.8485 - val_loss: 0.3765 - val_acc: 0.9660\n",
            "Epoch 9/30\n",
            "100/100 [==============================] - 17s 174ms/step - loss: 0.2974 - acc: 0.8645 - val_loss: 0.0397 - val_acc: 0.9640\n",
            "Epoch 10/30\n",
            "100/100 [==============================] - 17s 175ms/step - loss: 0.2983 - acc: 0.8665 - val_loss: 0.0054 - val_acc: 0.9700\n",
            "Epoch 11/30\n",
            "100/100 [==============================] - 17s 173ms/step - loss: 0.2883 - acc: 0.8775 - val_loss: 0.5400 - val_acc: 0.9690\n",
            "Epoch 12/30\n",
            "100/100 [==============================] - 17s 171ms/step - loss: 0.3201 - acc: 0.8545 - val_loss: 0.4317 - val_acc: 0.9720\n",
            "Epoch 13/30\n",
            "100/100 [==============================] - 17s 172ms/step - loss: 0.2782 - acc: 0.8825 - val_loss: 0.3687 - val_acc: 0.9670\n",
            "Epoch 14/30\n",
            "100/100 [==============================] - 17s 173ms/step - loss: 0.2914 - acc: 0.8785 - val_loss: 0.6010 - val_acc: 0.9720\n",
            "Epoch 15/30\n",
            "100/100 [==============================] - 17s 172ms/step - loss: 0.3086 - acc: 0.8695 - val_loss: 0.3037 - val_acc: 0.9740\n",
            "Epoch 16/30\n",
            "100/100 [==============================] - 17s 173ms/step - loss: 0.2877 - acc: 0.8690 - val_loss: 0.4234 - val_acc: 0.9670\n",
            "Epoch 17/30\n",
            "100/100 [==============================] - 17s 172ms/step - loss: 0.2791 - acc: 0.8850 - val_loss: 0.0424 - val_acc: 0.9560\n",
            "Epoch 18/30\n",
            "100/100 [==============================] - 17s 172ms/step - loss: 0.2642 - acc: 0.8805 - val_loss: 0.2853 - val_acc: 0.9630\n",
            "Epoch 19/30\n",
            "100/100 [==============================] - 17s 172ms/step - loss: 0.2762 - acc: 0.8830 - val_loss: 0.0024 - val_acc: 0.9680\n",
            "Epoch 20/30\n",
            "100/100 [==============================] - 17s 173ms/step - loss: 0.2819 - acc: 0.8845 - val_loss: 0.1774 - val_acc: 0.9670\n",
            "Epoch 21/30\n",
            "100/100 [==============================] - 17s 170ms/step - loss: 0.2886 - acc: 0.8755 - val_loss: 5.1876e-04 - val_acc: 0.9690\n",
            "Epoch 22/30\n",
            "100/100 [==============================] - 17s 170ms/step - loss: 0.2721 - acc: 0.8845 - val_loss: 0.0622 - val_acc: 0.9620\n",
            "Epoch 23/30\n",
            "100/100 [==============================] - 17s 171ms/step - loss: 0.2588 - acc: 0.8925 - val_loss: 0.8526 - val_acc: 0.9630\n",
            "Epoch 24/30\n",
            "100/100 [==============================] - 17s 170ms/step - loss: 0.2722 - acc: 0.8900 - val_loss: 0.0030 - val_acc: 0.9720\n",
            "Epoch 25/30\n",
            "100/100 [==============================] - 17s 173ms/step - loss: 0.2924 - acc: 0.8760 - val_loss: 0.0012 - val_acc: 0.9680\n",
            "Epoch 26/30\n",
            "100/100 [==============================] - 17s 171ms/step - loss: 0.2704 - acc: 0.8850 - val_loss: 0.4202 - val_acc: 0.9710\n",
            "Epoch 27/30\n",
            "100/100 [==============================] - 17s 170ms/step - loss: 0.2664 - acc: 0.8810 - val_loss: 1.1471e-07 - val_acc: 0.9670\n",
            "Epoch 28/30\n",
            "100/100 [==============================] - 17s 170ms/step - loss: 0.2737 - acc: 0.8830 - val_loss: 0.0050 - val_acc: 0.9680\n",
            "Epoch 29/30\n",
            "100/100 [==============================] - 17s 171ms/step - loss: 0.2557 - acc: 0.8900 - val_loss: 6.2918e-05 - val_acc: 0.9670\n",
            "Epoch 30/30\n",
            "100/100 [==============================] - 17s 171ms/step - loss: 0.2693 - acc: 0.8790 - val_loss: 1.0838e-04 - val_acc: 0.9670\n"
          ],
          "name": "stdout"
        }
      ]
    },
    {
      "cell_type": "markdown",
      "metadata": {
        "id": "xqRc_vHKc92U",
        "colab_type": "text"
      },
      "source": [
        "## Display curves of loss and accuracy during training"
      ]
    },
    {
      "cell_type": "code",
      "metadata": {
        "id": "ybWwdzz9bwuQ",
        "colab_type": "code",
        "outputId": "589575b4-0de5-4b0c-ae4c-da82ab6c6b72",
        "colab": {
          "base_uri": "https://localhost:8080/",
          "height": 545
        }
      },
      "source": [
        "%matplotlib inline\n",
        "\n",
        "import matplotlib.pyplot as plt\n",
        "\n",
        "acc = history.history['acc']\n",
        "val_acc = history.history['val_acc']\n",
        "\n",
        "loss = history.history['loss']\n",
        "val_loss = history.history['val_loss']\n",
        "\n",
        "epochs = range(1, len(acc) + 1)\n",
        "\n",
        "# training and validation accuracy\n",
        "\n",
        "plt.plot(epochs, acc, 'bo', label='training acc')\n",
        "plt.plot(epochs, val_acc, 'b', label='validation acc')\n",
        "plt.title('training and validation accuracy')\n",
        "plt.legend()\n",
        "\n",
        "plt.figure()\n",
        "\n",
        "# training and validation loss\n",
        "\n",
        "plt.plot(epochs, loss, 'bo', label='training loss')\n",
        "plt.plot(epochs, val_loss, 'b', label='validation loss')\n",
        "plt.title('training and validation loss')\n",
        "plt.legend()\n",
        "\n",
        "plt.show()"
      ],
      "execution_count": 0,
      "outputs": [
        {
          "output_type": "display_data",
          "data": {
            "image/png": "[encoded data removed]",
            "text/plain": [
              "<Figure size 432x288 with 1 Axes>"
            ]
          },
          "metadata": {
            "tags": [],
            "needs_background": "light"
          }
        },
        {
          "output_type": "display_data",
          "data": {
            "image/png": "[encoded data removed]",
            "text/plain": [
              "<Figure size 432x288 with 1 Axes>"
            ]
          },
          "metadata": {
            "tags": [],
            "needs_background": "light"
          }
        }
      ]
    },
    {
      "cell_type": "markdown",
      "metadata": {
        "id": "lOWsxpey8lN0",
        "colab_type": "text"
      },
      "source": [
        "## Fine-tuning"
      ]
    },
    {
      "cell_type": "code",
      "metadata": {
        "id": "PwkVMx8N8qMw",
        "colab_type": "code",
        "colab": {}
      },
      "source": [
        "conv_base.trainable = True\n",
        "\n",
        "set_trainable = False\n",
        "for layer in conv_base.layers:\n",
        "  if layer.name == 'conv2d_3':\n",
        "    set_trainable = True\n",
        "  if set_trainable:\n",
        "    layer.trainable = True\n",
        "  else:\n",
        "    layer.trainable = False"
      ],
      "execution_count": 0,
      "outputs": []
    },
    {
      "cell_type": "code",
      "metadata": {
        "id": "DyN-J7rs9cvo",
        "colab_type": "code",
        "outputId": "01962a03-0ded-4f11-fb5a-132324eddbd6",
        "colab": {
          "base_uri": "https://localhost:8080/",
          "height": 1000
        }
      },
      "source": [
        "# compile model\n",
        "\n",
        "model.compile(\n",
        "    loss='binary_crossentropy',\n",
        "    #\n",
        "    # choose a smaller learning rate\n",
        "    #\n",
        "    optimizer=optimizers.RMSprop(lr=1e-5), \n",
        "    metrics=['acc'])\n",
        "\n",
        "# train\n",
        "\n",
        "history = model.fit_generator(\n",
        "    train_generator,\n",
        "    steps_per_epoch=100,\n",
        "    epochs=100,\n",
        "    validation_data=validation_generator,\n",
        "    validation_steps=50)"
      ],
      "execution_count": 11,
      "outputs": [
        {
          "output_type": "stream",
          "text": [
            "Epoch 1/100\n",
            "100/100 [==============================] - 27s 267ms/step - loss: 0.2380 - acc: 0.8985 - val_loss: 0.0544 - val_acc: 0.9560\n",
            "Epoch 2/100\n",
            "100/100 [==============================] - 20s 198ms/step - loss: 0.2296 - acc: 0.9050 - val_loss: 0.3166 - val_acc: 0.9510\n",
            "Epoch 3/100\n",
            "100/100 [==============================] - 20s 198ms/step - loss: 0.2072 - acc: 0.9165 - val_loss: 0.1545 - val_acc: 0.9360\n",
            "Epoch 4/100\n",
            "100/100 [==============================] - 20s 198ms/step - loss: 0.1917 - acc: 0.9270 - val_loss: 0.2437 - val_acc: 0.9520\n",
            "Epoch 5/100\n",
            "100/100 [==============================] - 20s 199ms/step - loss: 0.1685 - acc: 0.9315 - val_loss: 0.0172 - val_acc: 0.9540\n",
            "Epoch 6/100\n",
            "100/100 [==============================] - 20s 199ms/step - loss: 0.1769 - acc: 0.9260 - val_loss: 0.3982 - val_acc: 0.9540\n",
            "Epoch 7/100\n",
            "100/100 [==============================] - 20s 197ms/step - loss: 0.1584 - acc: 0.9390 - val_loss: 0.0787 - val_acc: 0.9460\n",
            "Epoch 8/100\n",
            "100/100 [==============================] - 20s 197ms/step - loss: 0.1486 - acc: 0.9435 - val_loss: 0.1260 - val_acc: 0.9550\n",
            "Epoch 9/100\n",
            "100/100 [==============================] - 20s 200ms/step - loss: 0.1592 - acc: 0.9375 - val_loss: 0.1990 - val_acc: 0.9510\n",
            "Epoch 10/100\n",
            "100/100 [==============================] - 20s 198ms/step - loss: 0.1317 - acc: 0.9490 - val_loss: 0.0413 - val_acc: 0.9480\n",
            "Epoch 11/100\n",
            "100/100 [==============================] - 20s 198ms/step - loss: 0.1478 - acc: 0.9445 - val_loss: 0.0502 - val_acc: 0.9520\n",
            "Epoch 12/100\n",
            "100/100 [==============================] - 20s 198ms/step - loss: 0.1236 - acc: 0.9510 - val_loss: 0.2039 - val_acc: 0.9590\n",
            "Epoch 13/100\n",
            "100/100 [==============================] - 20s 199ms/step - loss: 0.1214 - acc: 0.9505 - val_loss: 0.2552 - val_acc: 0.9450\n",
            "Epoch 14/100\n",
            "100/100 [==============================] - 20s 198ms/step - loss: 0.1042 - acc: 0.9595 - val_loss: 0.0233 - val_acc: 0.9580\n",
            "Epoch 15/100\n",
            "100/100 [==============================] - 20s 197ms/step - loss: 0.1042 - acc: 0.9565 - val_loss: 0.1275 - val_acc: 0.9550\n",
            "Epoch 16/100\n",
            "100/100 [==============================] - 20s 197ms/step - loss: 0.1095 - acc: 0.9605 - val_loss: 0.0263 - val_acc: 0.9580\n",
            "Epoch 17/100\n",
            "100/100 [==============================] - 20s 198ms/step - loss: 0.0921 - acc: 0.9665 - val_loss: 0.0024 - val_acc: 0.9590\n",
            "Epoch 18/100\n",
            "100/100 [==============================] - 20s 197ms/step - loss: 0.1028 - acc: 0.9595 - val_loss: 0.0122 - val_acc: 0.9610\n",
            "Epoch 19/100\n",
            "100/100 [==============================] - 20s 197ms/step - loss: 0.1040 - acc: 0.9630 - val_loss: 0.0370 - val_acc: 0.9590\n",
            "Epoch 20/100\n",
            "100/100 [==============================] - 20s 200ms/step - loss: 0.0902 - acc: 0.9655 - val_loss: 0.0057 - val_acc: 0.9620\n",
            "Epoch 21/100\n",
            "100/100 [==============================] - 20s 199ms/step - loss: 0.0819 - acc: 0.9710 - val_loss: 0.1492 - val_acc: 0.9590\n",
            "Epoch 22/100\n",
            "100/100 [==============================] - 20s 198ms/step - loss: 0.0819 - acc: 0.9660 - val_loss: 0.3765 - val_acc: 0.9630\n",
            "Epoch 23/100\n",
            "100/100 [==============================] - 20s 197ms/step - loss: 0.1037 - acc: 0.9640 - val_loss: 0.1270 - val_acc: 0.9660\n",
            "Epoch 24/100\n",
            "100/100 [==============================] - 20s 200ms/step - loss: 0.0886 - acc: 0.9685 - val_loss: 0.1445 - val_acc: 0.9590\n",
            "Epoch 25/100\n",
            "100/100 [==============================] - 20s 197ms/step - loss: 0.0817 - acc: 0.9685 - val_loss: 0.0417 - val_acc: 0.9600\n",
            "Epoch 26/100\n",
            "100/100 [==============================] - 20s 198ms/step - loss: 0.0734 - acc: 0.9675 - val_loss: 0.0033 - val_acc: 0.9680\n",
            "Epoch 27/100\n",
            "100/100 [==============================] - 20s 197ms/step - loss: 0.0768 - acc: 0.9730 - val_loss: 0.0015 - val_acc: 0.9680\n",
            "Epoch 28/100\n",
            "100/100 [==============================] - 20s 196ms/step - loss: 0.0740 - acc: 0.9785 - val_loss: 0.0010 - val_acc: 0.9700\n",
            "Epoch 29/100\n",
            "100/100 [==============================] - 20s 197ms/step - loss: 0.0740 - acc: 0.9760 - val_loss: 0.4075 - val_acc: 0.9700\n",
            "Epoch 30/100\n",
            "100/100 [==============================] - 20s 200ms/step - loss: 0.0820 - acc: 0.9680 - val_loss: 0.2370 - val_acc: 0.9670\n",
            "Epoch 31/100\n",
            "100/100 [==============================] - 20s 197ms/step - loss: 0.0848 - acc: 0.9675 - val_loss: 0.0261 - val_acc: 0.9710\n",
            "Epoch 32/100\n",
            "100/100 [==============================] - 20s 198ms/step - loss: 0.0741 - acc: 0.9730 - val_loss: 0.0582 - val_acc: 0.9690\n",
            "Epoch 33/100\n",
            "100/100 [==============================] - 20s 201ms/step - loss: 0.0896 - acc: 0.9725 - val_loss: 0.0589 - val_acc: 0.9660\n",
            "Epoch 34/100\n",
            "100/100 [==============================] - 20s 202ms/step - loss: 0.0544 - acc: 0.9780 - val_loss: 0.0720 - val_acc: 0.9680\n",
            "Epoch 35/100\n",
            "100/100 [==============================] - 20s 200ms/step - loss: 0.0582 - acc: 0.9815 - val_loss: 0.1079 - val_acc: 0.9650\n",
            "Epoch 36/100\n",
            "100/100 [==============================] - 20s 197ms/step - loss: 0.0648 - acc: 0.9750 - val_loss: 0.3721 - val_acc: 0.9640\n",
            "Epoch 37/100\n",
            "100/100 [==============================] - 20s 197ms/step - loss: 0.0532 - acc: 0.9815 - val_loss: 0.2790 - val_acc: 0.9670\n",
            "Epoch 38/100\n",
            "100/100 [==============================] - 20s 198ms/step - loss: 0.0373 - acc: 0.9880 - val_loss: 0.0393 - val_acc: 0.9720\n",
            "Epoch 39/100\n",
            "100/100 [==============================] - 20s 197ms/step - loss: 0.0660 - acc: 0.9790 - val_loss: 0.3236 - val_acc: 0.9690\n",
            "Epoch 40/100\n",
            "100/100 [==============================] - 20s 197ms/step - loss: 0.0426 - acc: 0.9825 - val_loss: 0.5931 - val_acc: 0.9690\n",
            "Epoch 41/100\n",
            "100/100 [==============================] - 20s 196ms/step - loss: 0.0385 - acc: 0.9845 - val_loss: 0.0023 - val_acc: 0.9700\n",
            "Epoch 42/100\n",
            "100/100 [==============================] - 20s 199ms/step - loss: 0.0561 - acc: 0.9795 - val_loss: 0.0081 - val_acc: 0.9700\n",
            "Epoch 43/100\n",
            "100/100 [==============================] - 20s 197ms/step - loss: 0.0310 - acc: 0.9900 - val_loss: 0.0454 - val_acc: 0.9750\n",
            "Epoch 44/100\n",
            "100/100 [==============================] - 20s 197ms/step - loss: 0.0558 - acc: 0.9785 - val_loss: 0.0019 - val_acc: 0.9710\n",
            "Epoch 45/100\n",
            "100/100 [==============================] - 20s 196ms/step - loss: 0.0427 - acc: 0.9850 - val_loss: 0.2539 - val_acc: 0.9730\n",
            "Epoch 46/100\n",
            "100/100 [==============================] - 20s 197ms/step - loss: 0.0436 - acc: 0.9850 - val_loss: 0.4979 - val_acc: 0.9710\n",
            "Epoch 47/100\n",
            "100/100 [==============================] - 20s 197ms/step - loss: 0.0539 - acc: 0.9875 - val_loss: 9.9711e-05 - val_acc: 0.9690\n",
            "Epoch 48/100\n",
            "100/100 [==============================] - 20s 197ms/step - loss: 0.0459 - acc: 0.9865 - val_loss: 4.1766e-05 - val_acc: 0.9720\n",
            "Epoch 49/100\n",
            "100/100 [==============================] - 20s 196ms/step - loss: 0.0562 - acc: 0.9805 - val_loss: 3.5172e-04 - val_acc: 0.9700\n",
            "Epoch 50/100\n",
            "100/100 [==============================] - 20s 198ms/step - loss: 0.0299 - acc: 0.9900 - val_loss: 0.0075 - val_acc: 0.9650\n",
            "Epoch 51/100\n",
            "100/100 [==============================] - 20s 199ms/step - loss: 0.0393 - acc: 0.9885 - val_loss: 7.4340e-04 - val_acc: 0.9660\n",
            "Epoch 52/100\n",
            "100/100 [==============================] - 20s 197ms/step - loss: 0.0331 - acc: 0.9880 - val_loss: 0.2025 - val_acc: 0.9720\n",
            "Epoch 53/100\n",
            "100/100 [==============================] - 20s 196ms/step - loss: 0.0387 - acc: 0.9890 - val_loss: 0.0210 - val_acc: 0.9710\n",
            "Epoch 54/100\n",
            "100/100 [==============================] - 20s 199ms/step - loss: 0.0327 - acc: 0.9915 - val_loss: 0.4948 - val_acc: 0.9670\n",
            "Epoch 55/100\n",
            "100/100 [==============================] - 20s 197ms/step - loss: 0.0580 - acc: 0.9870 - val_loss: 1.5842e-04 - val_acc: 0.9710\n",
            "Epoch 56/100\n",
            "100/100 [==============================] - 20s 197ms/step - loss: 0.0285 - acc: 0.9895 - val_loss: 6.2454e-04 - val_acc: 0.9740\n",
            "Epoch 57/100\n",
            "100/100 [==============================] - 20s 197ms/step - loss: 0.0262 - acc: 0.9925 - val_loss: 0.0191 - val_acc: 0.9660\n",
            "Epoch 58/100\n",
            "100/100 [==============================] - 20s 198ms/step - loss: 0.0495 - acc: 0.9840 - val_loss: 0.1128 - val_acc: 0.9660\n",
            "Epoch 59/100\n",
            "100/100 [==============================] - 20s 196ms/step - loss: 0.0212 - acc: 0.9945 - val_loss: 0.2217 - val_acc: 0.9690\n",
            "Epoch 60/100\n",
            "100/100 [==============================] - 20s 197ms/step - loss: 0.0497 - acc: 0.9840 - val_loss: 2.7925e-04 - val_acc: 0.9680\n",
            "Epoch 61/100\n",
            "100/100 [==============================] - 20s 197ms/step - loss: 0.0409 - acc: 0.9880 - val_loss: 1.0602 - val_acc: 0.9670\n",
            "Epoch 62/100\n",
            "100/100 [==============================] - 20s 197ms/step - loss: 0.0349 - acc: 0.9855 - val_loss: 0.0130 - val_acc: 0.9740\n",
            "Epoch 63/100\n",
            "100/100 [==============================] - 20s 197ms/step - loss: 0.0206 - acc: 0.9920 - val_loss: 0.0137 - val_acc: 0.9710\n",
            "Epoch 64/100\n",
            "100/100 [==============================] - 20s 197ms/step - loss: 0.0313 - acc: 0.9920 - val_loss: 0.1311 - val_acc: 0.9680\n",
            "Epoch 65/100\n",
            "100/100 [==============================] - 20s 196ms/step - loss: 0.0377 - acc: 0.9890 - val_loss: 0.9922 - val_acc: 0.9680\n",
            "Epoch 66/100\n",
            "100/100 [==============================] - 20s 198ms/step - loss: 0.0362 - acc: 0.9895 - val_loss: 0.0023 - val_acc: 0.9670\n",
            "Epoch 67/100\n",
            "100/100 [==============================] - 20s 200ms/step - loss: 0.0302 - acc: 0.9925 - val_loss: 0.4969 - val_acc: 0.9700\n",
            "Epoch 68/100\n",
            "100/100 [==============================] - 20s 196ms/step - loss: 0.0289 - acc: 0.9900 - val_loss: 0.0693 - val_acc: 0.9720\n",
            "Epoch 69/100\n",
            "100/100 [==============================] - 20s 197ms/step - loss: 0.0296 - acc: 0.9895 - val_loss: 0.3353 - val_acc: 0.9700\n",
            "Epoch 70/100\n",
            "100/100 [==============================] - 20s 198ms/step - loss: 0.0285 - acc: 0.9925 - val_loss: 3.0086e-04 - val_acc: 0.9690\n",
            "Epoch 71/100\n",
            "100/100 [==============================] - 20s 196ms/step - loss: 0.0282 - acc: 0.9900 - val_loss: 0.0116 - val_acc: 0.9690\n",
            "Epoch 72/100\n",
            "100/100 [==============================] - 20s 196ms/step - loss: 0.0290 - acc: 0.9920 - val_loss: 0.2396 - val_acc: 0.9680\n",
            "Epoch 73/100\n",
            "100/100 [==============================] - 20s 197ms/step - loss: 0.0271 - acc: 0.9915 - val_loss: 0.0109 - val_acc: 0.9670\n",
            "Epoch 74/100\n",
            "100/100 [==============================] - 20s 197ms/step - loss: 0.0262 - acc: 0.9930 - val_loss: 0.2978 - val_acc: 0.9660\n",
            "Epoch 75/100\n",
            "100/100 [==============================] - 20s 198ms/step - loss: 0.0251 - acc: 0.9895 - val_loss: 6.5608e-04 - val_acc: 0.9710\n",
            "Epoch 76/100\n",
            "100/100 [==============================] - 20s 197ms/step - loss: 0.0439 - acc: 0.9905 - val_loss: 0.1673 - val_acc: 0.9700\n",
            "Epoch 77/100\n",
            "100/100 [==============================] - 20s 197ms/step - loss: 0.0282 - acc: 0.9930 - val_loss: 4.5732e-04 - val_acc: 0.9680\n",
            "Epoch 78/100\n",
            "100/100 [==============================] - 20s 198ms/step - loss: 0.0224 - acc: 0.9935 - val_loss: 0.0041 - val_acc: 0.9680\n",
            "Epoch 79/100\n",
            "100/100 [==============================] - 20s 197ms/step - loss: 0.0153 - acc: 0.9960 - val_loss: 0.3579 - val_acc: 0.9690\n",
            "Epoch 80/100\n",
            "100/100 [==============================] - 20s 196ms/step - loss: 0.0328 - acc: 0.9890 - val_loss: 5.4576e-04 - val_acc: 0.9730\n",
            "Epoch 81/100\n",
            "100/100 [==============================] - 20s 197ms/step - loss: 0.0353 - acc: 0.9905 - val_loss: 0.1289 - val_acc: 0.9740\n",
            "Epoch 82/100\n",
            "100/100 [==============================] - 20s 198ms/step - loss: 0.0307 - acc: 0.9925 - val_loss: 7.0367e-04 - val_acc: 0.9780\n",
            "Epoch 83/100\n",
            "100/100 [==============================] - 20s 198ms/step - loss: 0.0156 - acc: 0.9945 - val_loss: 0.0927 - val_acc: 0.9750\n",
            "Epoch 84/100\n",
            "100/100 [==============================] - 20s 197ms/step - loss: 0.0271 - acc: 0.9915 - val_loss: 0.1534 - val_acc: 0.9730\n",
            "Epoch 85/100\n",
            "100/100 [==============================] - 20s 197ms/step - loss: 0.0297 - acc: 0.9920 - val_loss: 2.2332e-05 - val_acc: 0.9730\n",
            "Epoch 86/100\n",
            "100/100 [==============================] - 20s 196ms/step - loss: 0.0247 - acc: 0.9935 - val_loss: 0.3392 - val_acc: 0.9730\n",
            "Epoch 87/100\n",
            "100/100 [==============================] - 20s 197ms/step - loss: 0.0341 - acc: 0.9905 - val_loss: 1.8913e-05 - val_acc: 0.9720\n",
            "Epoch 88/100\n",
            "100/100 [==============================] - 20s 196ms/step - loss: 0.0203 - acc: 0.9915 - val_loss: 5.8858e-04 - val_acc: 0.9720\n",
            "Epoch 89/100\n",
            "100/100 [==============================] - 20s 196ms/step - loss: 0.0219 - acc: 0.9905 - val_loss: 0.0017 - val_acc: 0.9720\n",
            "Epoch 90/100\n",
            "100/100 [==============================] - 20s 196ms/step - loss: 0.0310 - acc: 0.9905 - val_loss: 8.7226e-04 - val_acc: 0.9730\n",
            "Epoch 91/100\n",
            "100/100 [==============================] - 21s 209ms/step - loss: 0.0222 - acc: 0.9945 - val_loss: 7.8714e-05 - val_acc: 0.9730\n",
            "Epoch 92/100\n",
            "100/100 [==============================] - 20s 198ms/step - loss: 0.0224 - acc: 0.9935 - val_loss: 0.1582 - val_acc: 0.9710\n",
            "Epoch 93/100\n",
            "100/100 [==============================] - 20s 199ms/step - loss: 0.0149 - acc: 0.9960 - val_loss: 3.0479e-04 - val_acc: 0.9730\n",
            "Epoch 94/100\n",
            "100/100 [==============================] - 20s 198ms/step - loss: 0.0201 - acc: 0.9925 - val_loss: 0.0026 - val_acc: 0.9730\n",
            "Epoch 95/100\n",
            "100/100 [==============================] - 20s 201ms/step - loss: 0.0260 - acc: 0.9910 - val_loss: 7.6789e-04 - val_acc: 0.9730\n",
            "Epoch 96/100\n",
            "100/100 [==============================] - 20s 199ms/step - loss: 0.0229 - acc: 0.9915 - val_loss: 0.0540 - val_acc: 0.9720\n",
            "Epoch 97/100\n",
            "100/100 [==============================] - 20s 200ms/step - loss: 0.0324 - acc: 0.9940 - val_loss: 0.0421 - val_acc: 0.9740\n",
            "Epoch 98/100\n",
            "100/100 [==============================] - 20s 201ms/step - loss: 0.0165 - acc: 0.9950 - val_loss: 0.0015 - val_acc: 0.9770\n",
            "Epoch 99/100\n",
            "100/100 [==============================] - 20s 201ms/step - loss: 0.0188 - acc: 0.9935 - val_loss: 2.1636e-05 - val_acc: 0.9700\n",
            "Epoch 100/100\n",
            "100/100 [==============================] - 20s 200ms/step - loss: 0.0127 - acc: 0.9955 - val_loss: 0.0021 - val_acc: 0.9710\n"
          ],
          "name": "stdout"
        }
      ]
    },
    {
      "cell_type": "markdown",
      "metadata": {
        "id": "eVBQgh5M-Rtz",
        "colab_type": "text"
      },
      "source": [
        "## Display learning curves during fine-tuning"
      ]
    },
    {
      "cell_type": "code",
      "metadata": {
        "id": "mbkIw7Ie-NP4",
        "colab_type": "code",
        "colab": {
          "base_uri": "https://localhost:8080/",
          "height": 545
        },
        "outputId": "0dfb517b-829c-4583-dd6c-e60bad12c8b8"
      },
      "source": [
        "%matplotlib inline\n",
        "\n",
        "import matplotlib.pyplot as plt\n",
        "\n",
        "acc = history.history['acc']\n",
        "val_acc = history.history['val_acc']\n",
        "\n",
        "loss = history.history['loss']\n",
        "val_loss = history.history['val_loss']\n",
        "\n",
        "epochs = range(1, len(acc) + 1)\n",
        "\n",
        "# training and validation accuracy\n",
        "\n",
        "plt.plot(epochs, acc, 'bo', label='training acc')\n",
        "plt.plot(epochs, val_acc, 'b', label='validation acc')\n",
        "plt.title('training and validation accuracy')\n",
        "plt.legend()\n",
        "\n",
        "plt.figure()\n",
        "\n",
        "# training and validation loss\n",
        "\n",
        "plt.plot(epochs, loss, 'bo', label='training loss')\n",
        "plt.plot(epochs, val_loss, 'b', label='validation loss')\n",
        "plt.title('training and validation loss')\n",
        "plt.legend()\n",
        "\n",
        "plt.show()"
      ],
      "execution_count": 12,
      "outputs": [
        {
          "output_type": "display_data",
          "data": {
            "image/png": "[encoded data removed]",
            "text/plain": [
              "<Figure size 432x288 with 1 Axes>"
            ]
          },
          "metadata": {
            "tags": [],
            "needs_background": "light"
          }
        },
        {
          "output_type": "display_data",
          "data": {
            "image/png": "[encoded data removed]",
            "text/plain": [
              "<Figure size 432x288 with 1 Axes>"
            ]
          },
          "metadata": {
            "tags": [],
            "needs_background": "light"
          }
        }
      ]
    },
    {
      "cell_type": "markdown",
      "metadata": {
        "id": "he3Nw6TOJwjx",
        "colab_type": "text"
      },
      "source": [
        "## Print out validation loss and accuracy"
      ]
    },
    {
      "cell_type": "code",
      "metadata": {
        "id": "SVQtrk7uJdhl",
        "colab_type": "code",
        "colab": {}
      },
      "source": [
        "val_loss, val_acc = model.evaluate_generator(validation_generator, steps=50)"
      ],
      "execution_count": 0,
      "outputs": []
    },
    {
      "cell_type": "code",
      "metadata": {
        "id": "HpdddLi1SUMe",
        "colab_type": "code",
        "colab": {
          "base_uri": "https://localhost:8080/",
          "height": 70
        },
        "outputId": "038c5d63-eb70-447e-a6d8-e5b2f69e3e89"
      },
      "source": [
        "print(\"Validation loss:\", val_loss)\n",
        "print(\"Validation accuracy:\", val_acc)"
      ],
      "execution_count": 19,
      "outputs": [
        {
          "output_type": "stream",
          "text": [
            "Validation loss: [0.05444704741239548, 0.3165731430053711, 0.1544594019651413, 0.24371543526649475, 0.017152579501271248, 0.39824557304382324, 0.0787191390991211, 0.12602007389068604, 0.1990090161561966, 0.041305914521217346, 0.05017770454287529, 0.2038862705230713, 0.25523534417152405, 0.02334754168987274, 0.12752893567085266, 0.02631782367825508, 0.002366463653743267, 0.012181408703327179, 0.037025101482868195, 0.005668177269399166, 0.14924019575119019, 0.3764785826206207, 0.12699167430400848, 0.14448973536491394, 0.04166721925139427, 0.0032795039005577564, 0.0014711536932736635, 0.0010001687332987785, 0.4075353741645813, 0.2369687855243683, 0.02605922520160675, 0.05816838890314102, 0.05888066440820694, 0.07204100489616394, 0.1079375371336937, 0.3721281588077545, 0.2789589762687683, 0.039311207830905914, 0.32364514470100403, 0.5931302309036255, 0.0022750706411898136, 0.008140788413584232, 0.045415572822093964, 0.0018704014364629984, 0.25392600893974304, 0.4978806972503662, 9.971121471608058e-05, 4.176552829449065e-05, 0.0003517246223054826, 0.007530138827860355, 0.0007434046128764749, 0.2024516612291336, 0.02103254571557045, 0.4948497414588928, 0.0001584206911502406, 0.0006245366530492902, 0.019107293337583542, 0.11279568821191788, 0.2216567099094391, 0.0002792531158775091, 1.060185194015503, 0.01304335705935955, 0.013689981773495674, 0.1311282217502594, 0.9921674728393555, 0.0022786324843764305, 0.49694404006004333, 0.06926856935024261, 0.3353099226951599, 0.00030086361221037805, 0.011646190658211708, 0.23960018157958984, 0.010917378589510918, 0.2978449761867523, 0.000656082876957953, 0.1672695130109787, 0.00045732129365205765, 0.00406150845810771, 0.3579259514808655, 0.0005457626539282501, 0.12894657254219055, 0.0007036688621155918, 0.09273995459079742, 0.15344038605690002, 2.2332100343191996e-05, 0.33924320340156555, 1.891297688416671e-05, 0.0005885845166631043, 0.0016556524205952883, 0.0008722647908143699, 7.871376146795228e-05, 0.15821334719657898, 0.00030479137785732746, 0.002574455924332142, 0.0007678938563913107, 0.05400141328573227, 0.04205453023314476, 0.0015082417521625757, 2.1636187739204615e-05, 0.0021495043765753508]\n",
            "Validation accuracy: [0.9559999704360962, 0.9509999752044678, 0.9359999895095825, 0.9520000219345093, 0.9539999961853027, 0.9539999961853027, 0.9459999799728394, 0.9549999833106995, 0.9509999752044678, 0.9480000138282776, 0.9520000219345093, 0.9589999914169312, 0.9449999928474426, 0.9580000042915344, 0.9549999833106995, 0.9580000042915344, 0.9589999914169312, 0.9610000252723694, 0.9589999914169312, 0.9620000123977661, 0.9589999914169312, 0.9629999995231628, 0.9660000205039978, 0.9589999914169312, 0.9599999785423279, 0.9679999947547913, 0.9679999947547913, 0.9700000286102295, 0.9700000286102295, 0.9670000076293945, 0.9710000157356262, 0.968999981880188, 0.9660000205039978, 0.9679999947547913, 0.9649999737739563, 0.9639999866485596, 0.9670000076293945, 0.972000002861023, 0.968999981880188, 0.968999981880188, 0.9700000286102295, 0.9700000286102295, 0.9750000238418579, 0.9710000157356262, 0.9729999899864197, 0.9710000157356262, 0.968999981880188, 0.972000002861023, 0.9700000286102295, 0.9649999737739563, 0.9660000205039978, 0.972000002861023, 0.9710000157356262, 0.9670000076293945, 0.9710000157356262, 0.9739999771118164, 0.9660000205039978, 0.9660000205039978, 0.968999981880188, 0.9679999947547913, 0.9670000076293945, 0.9739999771118164, 0.9710000157356262, 0.9679999947547913, 0.9679999947547913, 0.9670000076293945, 0.9700000286102295, 0.972000002861023, 0.9700000286102295, 0.968999981880188, 0.968999981880188, 0.9679999947547913, 0.9670000076293945, 0.9660000205039978, 0.9710000157356262, 0.9700000286102295, 0.9679999947547913, 0.9679999947547913, 0.968999981880188, 0.9729999899864197, 0.9739999771118164, 0.9779999852180481, 0.9750000238418579, 0.9729999899864197, 0.9729999899864197, 0.9729999899864197, 0.972000002861023, 0.972000002861023, 0.972000002861023, 0.9729999899864197, 0.9729999899864197, 0.9710000157356262, 0.9729999899864197, 0.9729999899864197, 0.9729999899864197, 0.972000002861023, 0.9739999771118164, 0.9769999980926514, 0.9700000286102295, 0.9710000157356262]\n"
          ],
          "name": "stdout"
        }
      ]
    },
    {
      "cell_type": "markdown",
      "metadata": {
        "id": "7Ww756WToby8",
        "colab_type": "text"
      },
      "source": [
        "## Save the model"
      ]
    },
    {
      "cell_type": "code",
      "metadata": {
        "id": "0lTUpUdwobKW",
        "colab_type": "code",
        "colab": {}
      },
      "source": [
        "model_fname = 'cats_and_dogs_small_4.h5' \n",
        "model.save(model_fname)"
      ],
      "execution_count": 0,
      "outputs": []
    },
    {
      "cell_type": "code",
      "metadata": {
        "id": "YhEoI8ZTok-X",
        "colab_type": "code",
        "colab": {}
      },
      "source": [
        "from google.colab import files\n",
        "\n",
        "with open(model_fname, 'r') as f:\n",
        "  files.download(model_fname)"
      ],
      "execution_count": 0,
      "outputs": []
    }
  ]
}