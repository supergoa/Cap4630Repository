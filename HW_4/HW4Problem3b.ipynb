{
  "nbformat": 4,
  "nbformat_minor": 0,
  "metadata": {
    "colab": {
      "name": "HW4Problem3b.ipynb",
      "provenance": [],
      "authorship_tag": "ABX9TyOZ9ZpwmrBnpssqZzUMJYKQ",
      "include_colab_link": true
    },
    "kernelspec": {
      "name": "python3",
      "display_name": "Python 3"
    },
    "accelerator": "GPU"
  },
  "cells": [
    {
      "cell_type": "markdown",
      "metadata": {
        "id": "view-in-github",
        "colab_type": "text"
      },
      "source": [
        "<a href=\"https://colab.research.google.com/github/supergoa/Cap4630Repository/blob/master/HW_4/HW4Problem3b.ipynb\" target=\"_parent\"><img src=\"https://colab.research.google.com/assets/colab-badge.svg\" alt=\"Open In Colab\"/></a>"
      ]
    },
    {
      "cell_type": "markdown",
      "metadata": {
        "id": "KSrgMJ5vKFzQ",
        "colab_type": "text"
      },
      "source": [
        "# Fine-tuning VGG16 "
      ]
    },
    {
      "cell_type": "markdown",
      "metadata": {
        "id": "TIW7bZaAK-Hf",
        "colab_type": "text"
      },
      "source": [
        "This is based on section 5.3 *Using a pretrained convnet* of the book *Deep learning with Python* by Francois Chollet. I have made several changes to the code. I use the data that is already provided by Google. I don't download the data from Kaggle as in the deep learning book."
      ]
    },
    {
      "cell_type": "markdown",
      "metadata": {
        "id": "nsBq__dVo2pj",
        "colab_type": "text"
      },
      "source": [
        "## Feature extraction"
      ]
    },
    {
      "cell_type": "markdown",
      "metadata": {
        "id": "0g6ETAM9o54M",
        "colab_type": "text"
      },
      "source": [
        "Feature extraction consists of using the representations learned by a previous network to extract interesting features from new samples. These features are then run through a new classifier, which is trained from scratch.\n",
        "\n",
        "We will use here the convolutional base of the VGG16 model to extract the features. We will feed these features to a densely connected classifier with dropout. We will fine-tune some layers."
      ]
    },
    {
      "cell_type": "markdown",
      "metadata": {
        "id": "BqIG8QHMLNOn",
        "colab_type": "text"
      },
      "source": [
        "## Download the data"
      ]
    },
    {
      "cell_type": "markdown",
      "metadata": {
        "id": "t3I1jd7cKV6_",
        "colab_type": "text"
      },
      "source": [
        "Download the example data, a zip. of 2,000 JPG pictures of cats and dogs and extract it locally in ```/tmp```.\n",
        "\n"
      ]
    },
    {
      "cell_type": "code",
      "metadata": {
        "id": "JWjprHEXJ5Qi",
        "colab_type": "code",
        "outputId": "7f3ca637-f8f8-430a-fd6f-6c60765299ba",
        "colab": {
          "base_uri": "https://localhost:8080/",
          "height": 202
        }
      },
      "source": [
        "!wget --no-check-certificate \\\n",
        "    https://storage.googleapis.com/mledu-datasets/cats_and_dogs_filtered.zip \\\n",
        "    -O /tmp/cats_and_dogs_filtered.zip"
      ],
      "execution_count": 1,
      "outputs": [
        {
          "output_type": "stream",
          "text": [
            "--2020-04-20 22:05:02--  https://storage.googleapis.com/mledu-datasets/cats_and_dogs_filtered.zip\n",
            "Resolving storage.googleapis.com (storage.googleapis.com)... 74.125.68.128, 2404:6800:4003:c02::80\n",
            "Connecting to storage.googleapis.com (storage.googleapis.com)|74.125.68.128|:443... connected.\n",
            "HTTP request sent, awaiting response... 200 OK\n",
            "Length: 68606236 (65M) [application/zip]\n",
            "Saving to: ‘/tmp/cats_and_dogs_filtered.zip’\n",
            "\n",
            "/tmp/cats_and_dogs_ 100%[===================>]  65.43M   113MB/s    in 0.6s    \n",
            "\n",
            "2020-04-20 22:05:03 (113 MB/s) - ‘/tmp/cats_and_dogs_filtered.zip’ saved [68606236/68606236]\n",
            "\n"
          ],
          "name": "stdout"
        }
      ]
    },
    {
      "cell_type": "code",
      "metadata": {
        "id": "WvoHtdA-K6Rw",
        "colab_type": "code",
        "colab": {}
      },
      "source": [
        "import os\n",
        "import zipfile\n",
        "\n",
        "local_zip = '/tmp/cats_and_dogs_filtered.zip'\n",
        "zip_ref = zipfile.ZipFile(local_zip, 'r')\n",
        "zip_ref.extractall('/tmp')\n",
        "zip_ref.close()"
      ],
      "execution_count": 0,
      "outputs": []
    },
    {
      "cell_type": "markdown",
      "metadata": {
        "id": "shZiOBnJMyy_",
        "colab_type": "text"
      },
      "source": [
        "Note that the data provided by Google does not have a test set."
      ]
    },
    {
      "cell_type": "code",
      "metadata": {
        "id": "dL8ikM89LlsH",
        "colab_type": "code",
        "colab": {}
      },
      "source": [
        "base_dir = '/tmp/cats_and_dogs_filtered'\n",
        "train_dir = os.path.join(base_dir, 'train')\n",
        "validation_dir = os.path.join(base_dir, 'validation')\n",
        "\n",
        "# Directory with our training cat pictures\n",
        "train_cats_dir = os.path.join(train_dir, 'cats')\n",
        "\n",
        "# Directory with our training dog pictures\n",
        "train_dogs_dir = os.path.join(train_dir, 'dogs')\n",
        "\n",
        "# Directory with our validation cat pictures\n",
        "validation_cats_dir = os.path.join(validation_dir, 'cats')\n",
        "\n",
        "# Directory with our validation dog pictures\n",
        "validation_dogs_dir = os.path.join(validation_dir, 'dogs')"
      ],
      "execution_count": 0,
      "outputs": []
    },
    {
      "cell_type": "markdown",
      "metadata": {
        "id": "inyP8bcdXnn-",
        "colab_type": "text"
      },
      "source": [
        "## Build network with Xception convolution base and custom densely connected layers"
      ]
    },
    {
      "cell_type": "markdown",
      "metadata": {
        "id": "kQ48W5T9rHWu",
        "colab_type": "text"
      },
      "source": [
        "### Load the convolutional base"
      ]
    },
    {
      "cell_type": "code",
      "metadata": {
        "id": "Y0FgtANCXm_H",
        "colab_type": "code",
        "outputId": "5f30bf1f-c573-4d55-8961-e6d520c3c74e",
        "colab": {
          "base_uri": "https://localhost:8080/",
          "height": 87
        }
      },
      "source": [
        "from keras.applications import Xception\n",
        "\n",
        "conv_base = Xception(\n",
        "    weights='imagenet', \n",
        "    include_top=False, \n",
        "    input_shape=(150, 150, 3))"
      ],
      "execution_count": 4,
      "outputs": [
        {
          "output_type": "stream",
          "text": [
            "Using TensorFlow backend.\n"
          ],
          "name": "stderr"
        },
        {
          "output_type": "stream",
          "text": [
            "Downloading data from https://github.com/fchollet/deep-learning-models/releases/download/v0.4/xception_weights_tf_dim_ordering_tf_kernels_notop.h5\n",
            "83689472/83683744 [==============================] - 8s 0us/step\n"
          ],
          "name": "stdout"
        }
      ]
    },
    {
      "cell_type": "markdown",
      "metadata": {
        "id": "D6OBHOO9q1ou",
        "colab_type": "text"
      },
      "source": [
        "### Freeze the convolutional base"
      ]
    },
    {
      "cell_type": "code",
      "metadata": {
        "id": "UleRo4Dpq6Ld",
        "colab_type": "code",
        "colab": {}
      },
      "source": [
        "conv_base.trainable = False"
      ],
      "execution_count": 0,
      "outputs": []
    },
    {
      "cell_type": "markdown",
      "metadata": {
        "id": "Qfx6PqhPrb7Q",
        "colab_type": "text"
      },
      "source": [
        "### Concatenate the convolutional base and densely connected layers"
      ]
    },
    {
      "cell_type": "code",
      "metadata": {
        "id": "qUpmocDAO3xm",
        "colab_type": "code",
        "colab": {}
      },
      "source": [
        "from keras import layers\n",
        "from keras import models\n",
        "from keras import optimizers\n",
        "\n",
        "# changed classifiers in this cell\n",
        "model = models.Sequential()\n",
        "model.add(conv_base)\n",
        "model.add(layers.Flatten())\n",
        "model.add(layers.Dense(64, activation='relu'))\n",
        "model.add(layers.Dense(64, activation='relu'))\n",
        "model.add(layers.Dense(64, activation='relu'))\n",
        "model.add(layers.Dense(64, activation='relu'))\n",
        "#model.add(layers.Dropout(0.1))\n",
        "model.add(layers.Dense(1, activation='sigmoid'))"
      ],
      "execution_count": 0,
      "outputs": []
    },
    {
      "cell_type": "code",
      "metadata": {
        "id": "Fh6gZSeAjF7c",
        "colab_type": "code",
        "outputId": "f23c911f-aea8-45ed-c4fb-c0b96f24d53d",
        "colab": {
          "base_uri": "https://localhost:8080/",
          "height": 386
        }
      },
      "source": [
        "model.summary()"
      ],
      "execution_count": 7,
      "outputs": [
        {
          "output_type": "stream",
          "text": [
            "Model: \"sequential_1\"\n",
            "_________________________________________________________________\n",
            "Layer (type)                 Output Shape              Param #   \n",
            "=================================================================\n",
            "xception (Model)             (None, 5, 5, 2048)        20861480  \n",
            "_________________________________________________________________\n",
            "flatten_1 (Flatten)          (None, 51200)             0         \n",
            "_________________________________________________________________\n",
            "dense_1 (Dense)              (None, 64)                3276864   \n",
            "_________________________________________________________________\n",
            "dense_2 (Dense)              (None, 64)                4160      \n",
            "_________________________________________________________________\n",
            "dense_3 (Dense)              (None, 64)                4160      \n",
            "_________________________________________________________________\n",
            "dense_4 (Dense)              (None, 64)                4160      \n",
            "_________________________________________________________________\n",
            "dense_5 (Dense)              (None, 1)                 65        \n",
            "=================================================================\n",
            "Total params: 24,150,889\n",
            "Trainable params: 3,289,409\n",
            "Non-trainable params: 20,861,480\n",
            "_________________________________________________________________\n"
          ],
          "name": "stdout"
        }
      ]
    },
    {
      "cell_type": "markdown",
      "metadata": {
        "id": "eZjBiddhi5Qj",
        "colab_type": "text"
      },
      "source": [
        "## Train the model end to end with frozen convolutional base"
      ]
    },
    {
      "cell_type": "code",
      "metadata": {
        "id": "tfAQlC2Oi41L",
        "colab_type": "code",
        "outputId": "202a0f58-0503-47f7-f041-36dcf44d022b",
        "colab": {
          "base_uri": "https://localhost:8080/",
          "height": 1000
        }
      },
      "source": [
        "from keras.preprocessing.image import ImageDataGenerator\n",
        "from keras import optimizers\n",
        "\n",
        "# data augmentation\n",
        "\n",
        "train_datagen = ImageDataGenerator(\n",
        "    rescale=1./255, \n",
        "    rotation_range=40,\n",
        "    width_shift_range=0.2,\n",
        "    height_shift_range=0.2,\n",
        "    shear_range=0.2,\n",
        "    zoom_range=0.2,\n",
        "    horizontal_flip=True,\n",
        "    fill_mode='nearest'\n",
        ")\n",
        "\n",
        "train_generator = train_datagen.flow_from_directory(\n",
        "    train_dir,\n",
        "    target_size=(150, 150),\n",
        "    batch_size=20,\n",
        "    class_mode='binary')\n",
        "\n",
        "validation_datagen = ImageDataGenerator(rescale=1./255)\n",
        "\n",
        "validation_generator = validation_datagen.flow_from_directory(\n",
        "    validation_dir,\n",
        "    target_size=(150, 150),\n",
        "    batch_size=20,\n",
        "    class_mode='binary')\n",
        "\n",
        "# compile model\n",
        "\n",
        "model.compile(\n",
        "    loss='binary_crossentropy', \n",
        "    optimizer=optimizers.RMSprop(lr=2e-5), \n",
        "    metrics=['acc'])\n",
        "\n",
        "# train\n",
        "\n",
        "history = model.fit_generator(\n",
        "    train_generator,\n",
        "    steps_per_epoch=100,\n",
        "    epochs=30,\n",
        "    validation_data=validation_generator,\n",
        "    validation_steps=50\n",
        ")"
      ],
      "execution_count": 8,
      "outputs": [
        {
          "output_type": "stream",
          "text": [
            "Found 2000 images belonging to 2 classes.\n",
            "Found 1000 images belonging to 2 classes.\n",
            "Epoch 1/30\n",
            "100/100 [==============================] - 29s 294ms/step - loss: 0.5145 - acc: 0.7640 - val_loss: 0.1193 - val_acc: 0.9470\n",
            "Epoch 2/30\n",
            "100/100 [==============================] - 20s 197ms/step - loss: 0.3969 - acc: 0.8180 - val_loss: 0.0469 - val_acc: 0.9610\n",
            "Epoch 3/30\n",
            "100/100 [==============================] - 19s 195ms/step - loss: 0.3429 - acc: 0.8500 - val_loss: 0.0862 - val_acc: 0.9640\n",
            "Epoch 4/30\n",
            "100/100 [==============================] - 19s 195ms/step - loss: 0.3439 - acc: 0.8435 - val_loss: 0.1140 - val_acc: 0.9650\n",
            "Epoch 5/30\n",
            "100/100 [==============================] - 19s 195ms/step - loss: 0.3188 - acc: 0.8500 - val_loss: 0.1904 - val_acc: 0.9440\n",
            "Epoch 6/30\n",
            "100/100 [==============================] - 20s 195ms/step - loss: 0.3041 - acc: 0.8635 - val_loss: 0.0874 - val_acc: 0.9650\n",
            "Epoch 7/30\n",
            "100/100 [==============================] - 19s 194ms/step - loss: 0.3019 - acc: 0.8665 - val_loss: 4.7101e-04 - val_acc: 0.9670\n",
            "Epoch 8/30\n",
            "100/100 [==============================] - 19s 194ms/step - loss: 0.3271 - acc: 0.8535 - val_loss: 0.0161 - val_acc: 0.9620\n",
            "Epoch 9/30\n",
            "100/100 [==============================] - 19s 193ms/step - loss: 0.3351 - acc: 0.8545 - val_loss: 0.0569 - val_acc: 0.9600\n",
            "Epoch 10/30\n",
            "100/100 [==============================] - 19s 193ms/step - loss: 0.3033 - acc: 0.8610 - val_loss: 0.8113 - val_acc: 0.9580\n",
            "Epoch 11/30\n",
            "100/100 [==============================] - 19s 191ms/step - loss: 0.3190 - acc: 0.8565 - val_loss: 0.3298 - val_acc: 0.9670\n",
            "Epoch 12/30\n",
            "100/100 [==============================] - 19s 192ms/step - loss: 0.2997 - acc: 0.8690 - val_loss: 0.0671 - val_acc: 0.9640\n",
            "Epoch 13/30\n",
            "100/100 [==============================] - 19s 190ms/step - loss: 0.2991 - acc: 0.8700 - val_loss: 0.1792 - val_acc: 0.9650\n",
            "Epoch 14/30\n",
            "100/100 [==============================] - 19s 191ms/step - loss: 0.3115 - acc: 0.8680 - val_loss: 0.2163 - val_acc: 0.9620\n",
            "Epoch 15/30\n",
            "100/100 [==============================] - 19s 189ms/step - loss: 0.3079 - acc: 0.8650 - val_loss: 0.4053 - val_acc: 0.9660\n",
            "Epoch 16/30\n",
            "100/100 [==============================] - 19s 189ms/step - loss: 0.2895 - acc: 0.8720 - val_loss: 0.0018 - val_acc: 0.9660\n",
            "Epoch 17/30\n",
            "100/100 [==============================] - 19s 190ms/step - loss: 0.3107 - acc: 0.8585 - val_loss: 0.0050 - val_acc: 0.9690\n",
            "Epoch 18/30\n",
            "100/100 [==============================] - 19s 191ms/step - loss: 0.2978 - acc: 0.8655 - val_loss: 0.7012 - val_acc: 0.9700\n",
            "Epoch 19/30\n",
            "100/100 [==============================] - 19s 190ms/step - loss: 0.2741 - acc: 0.8855 - val_loss: 0.0041 - val_acc: 0.9690\n",
            "Epoch 20/30\n",
            "100/100 [==============================] - 19s 190ms/step - loss: 0.2779 - acc: 0.8785 - val_loss: 0.1776 - val_acc: 0.9600\n",
            "Epoch 21/30\n",
            "100/100 [==============================] - 19s 189ms/step - loss: 0.2607 - acc: 0.8925 - val_loss: 0.0021 - val_acc: 0.9660\n",
            "Epoch 22/30\n",
            "100/100 [==============================] - 19s 190ms/step - loss: 0.2851 - acc: 0.8740 - val_loss: 0.2568 - val_acc: 0.9710\n",
            "Epoch 23/30\n",
            "100/100 [==============================] - 19s 191ms/step - loss: 0.2687 - acc: 0.8835 - val_loss: 0.1424 - val_acc: 0.9690\n",
            "Epoch 24/30\n",
            "100/100 [==============================] - 19s 191ms/step - loss: 0.3000 - acc: 0.8645 - val_loss: 3.0935e-04 - val_acc: 0.9710\n",
            "Epoch 25/30\n",
            "100/100 [==============================] - 19s 190ms/step - loss: 0.2691 - acc: 0.8795 - val_loss: 0.0219 - val_acc: 0.9680\n",
            "Epoch 26/30\n",
            "100/100 [==============================] - 19s 191ms/step - loss: 0.2688 - acc: 0.8745 - val_loss: 0.0089 - val_acc: 0.9610\n",
            "Epoch 27/30\n",
            "100/100 [==============================] - 19s 190ms/step - loss: 0.2885 - acc: 0.8775 - val_loss: 0.2371 - val_acc: 0.9730\n",
            "Epoch 28/30\n",
            "100/100 [==============================] - 19s 189ms/step - loss: 0.2828 - acc: 0.8795 - val_loss: 0.0044 - val_acc: 0.9640\n",
            "Epoch 29/30\n",
            "100/100 [==============================] - 19s 189ms/step - loss: 0.2884 - acc: 0.8700 - val_loss: 0.0059 - val_acc: 0.9680\n",
            "Epoch 30/30\n",
            "100/100 [==============================] - 19s 189ms/step - loss: 0.2537 - acc: 0.8900 - val_loss: 2.8570e-04 - val_acc: 0.9570\n"
          ],
          "name": "stdout"
        }
      ]
    },
    {
      "cell_type": "markdown",
      "metadata": {
        "id": "xqRc_vHKc92U",
        "colab_type": "text"
      },
      "source": [
        "## Display curves of loss and accuracy during training"
      ]
    },
    {
      "cell_type": "code",
      "metadata": {
        "id": "ybWwdzz9bwuQ",
        "colab_type": "code",
        "outputId": "2609d971-dd18-4c97-d2a1-87e6d3146968",
        "colab": {
          "base_uri": "https://localhost:8080/",
          "height": 545
        }
      },
      "source": [
        "%matplotlib inline\n",
        "\n",
        "import matplotlib.pyplot as plt\n",
        "\n",
        "acc = history.history['acc']\n",
        "val_acc = history.history['val_acc']\n",
        "\n",
        "loss = history.history['loss']\n",
        "val_loss = history.history['val_loss']\n",
        "\n",
        "epochs = range(1, len(acc) + 1)\n",
        "\n",
        "# training and validation accuracy\n",
        "\n",
        "plt.plot(epochs, acc, 'bo', label='training acc')\n",
        "plt.plot(epochs, val_acc, 'b', label='validation acc')\n",
        "plt.title('training and validation accuracy')\n",
        "plt.legend()\n",
        "\n",
        "plt.figure()\n",
        "\n",
        "# training and validation loss\n",
        "\n",
        "plt.plot(epochs, loss, 'bo', label='training loss')\n",
        "plt.plot(epochs, val_loss, 'b', label='validation loss')\n",
        "plt.title('training and validation loss')\n",
        "plt.legend()\n",
        "\n",
        "plt.show()"
      ],
      "execution_count": 9,
      "outputs": [
        {
          "output_type": "display_data",
          "data": {
            "image/png": "[encoded data removed]",
            "text/plain": [
              "<Figure size 432x288 with 1 Axes>"
            ]
          },
          "metadata": {
            "tags": [],
            "needs_background": "light"
          }
        },
        {
          "output_type": "display_data",
          "data": {
            "image/png": "[encoded data removed]",
            "text/plain": [
              "<Figure size 432x288 with 1 Axes>"
            ]
          },
          "metadata": {
            "tags": [],
            "needs_background": "light"
          }
        }
      ]
    },
    {
      "cell_type": "markdown",
      "metadata": {
        "id": "lOWsxpey8lN0",
        "colab_type": "text"
      },
      "source": [
        "## Fine-tuning"
      ]
    },
    {
      "cell_type": "code",
      "metadata": {
        "id": "PwkVMx8N8qMw",
        "colab_type": "code",
        "colab": {}
      },
      "source": [
        "conv_base.trainable = True\n",
        "\n",
        "set_trainable = False\n",
        "for layer in conv_base.layers:\n",
        "  if layer.name == 'conv2d_3':\n",
        "    set_trainable = True\n",
        "  if set_trainable:\n",
        "    layer.trainable = True\n",
        "  else:\n",
        "    layer.trainable = False"
      ],
      "execution_count": 0,
      "outputs": []
    },
    {
      "cell_type": "code",
      "metadata": {
        "id": "DyN-J7rs9cvo",
        "colab_type": "code",
        "outputId": "4a591c19-f811-4131-ebdf-0a823d1dd922",
        "colab": {
          "base_uri": "https://localhost:8080/",
          "height": 1000
        }
      },
      "source": [
        "# compile model\n",
        "\n",
        "model.compile(\n",
        "    loss='binary_crossentropy',\n",
        "    #\n",
        "    # choose a smaller learning rate\n",
        "    #\n",
        "    optimizer=optimizers.RMSprop(lr=1e-5), \n",
        "    metrics=['acc'])\n",
        "\n",
        "# train\n",
        "\n",
        "history = model.fit_generator(\n",
        "    train_generator,\n",
        "    steps_per_epoch=100,\n",
        "    epochs=100,\n",
        "    validation_data=validation_generator,\n",
        "    validation_steps=50)"
      ],
      "execution_count": 11,
      "outputs": [
        {
          "output_type": "stream",
          "text": [
            "Epoch 1/100\n",
            "100/100 [==============================] - 33s 332ms/step - loss: 0.2460 - acc: 0.8960 - val_loss: 0.0151 - val_acc: 0.9550\n",
            "Epoch 2/100\n",
            "100/100 [==============================] - 25s 247ms/step - loss: 0.2345 - acc: 0.8980 - val_loss: 0.2482 - val_acc: 0.9560\n",
            "Epoch 3/100\n",
            "100/100 [==============================] - 25s 249ms/step - loss: 0.2276 - acc: 0.8985 - val_loss: 0.4847 - val_acc: 0.9420\n",
            "Epoch 4/100\n",
            "100/100 [==============================] - 25s 247ms/step - loss: 0.1912 - acc: 0.9200 - val_loss: 0.0357 - val_acc: 0.9440\n",
            "Epoch 5/100\n",
            "100/100 [==============================] - 25s 247ms/step - loss: 0.2067 - acc: 0.9095 - val_loss: 0.0073 - val_acc: 0.9510\n",
            "Epoch 6/100\n",
            "100/100 [==============================] - 25s 248ms/step - loss: 0.1868 - acc: 0.9185 - val_loss: 0.0250 - val_acc: 0.9480\n",
            "Epoch 7/100\n",
            "100/100 [==============================] - 25s 248ms/step - loss: 0.1673 - acc: 0.9330 - val_loss: 0.3997 - val_acc: 0.9410\n",
            "Epoch 8/100\n",
            "100/100 [==============================] - 25s 247ms/step - loss: 0.1670 - acc: 0.9355 - val_loss: 0.3031 - val_acc: 0.9490\n",
            "Epoch 9/100\n",
            "100/100 [==============================] - 25s 248ms/step - loss: 0.1514 - acc: 0.9355 - val_loss: 0.0395 - val_acc: 0.9540\n",
            "Epoch 10/100\n",
            "100/100 [==============================] - 25s 249ms/step - loss: 0.1509 - acc: 0.9395 - val_loss: 0.0088 - val_acc: 0.9550\n",
            "Epoch 11/100\n",
            "100/100 [==============================] - 25s 246ms/step - loss: 0.1319 - acc: 0.9455 - val_loss: 0.0689 - val_acc: 0.9470\n",
            "Epoch 12/100\n",
            "100/100 [==============================] - 25s 248ms/step - loss: 0.1418 - acc: 0.9385 - val_loss: 0.1060 - val_acc: 0.9530\n",
            "Epoch 13/100\n",
            "100/100 [==============================] - 25s 249ms/step - loss: 0.1105 - acc: 0.9545 - val_loss: 0.0070 - val_acc: 0.9630\n",
            "Epoch 14/100\n",
            "100/100 [==============================] - 25s 247ms/step - loss: 0.1318 - acc: 0.9470 - val_loss: 0.1469 - val_acc: 0.9640\n",
            "Epoch 15/100\n",
            "100/100 [==============================] - 25s 246ms/step - loss: 0.1062 - acc: 0.9605 - val_loss: 0.1013 - val_acc: 0.9610\n",
            "Epoch 16/100\n",
            "100/100 [==============================] - 25s 247ms/step - loss: 0.1134 - acc: 0.9550 - val_loss: 0.0707 - val_acc: 0.9630\n",
            "Epoch 17/100\n",
            "100/100 [==============================] - 25s 247ms/step - loss: 0.0914 - acc: 0.9595 - val_loss: 0.0723 - val_acc: 0.9660\n",
            "Epoch 18/100\n",
            "100/100 [==============================] - 25s 246ms/step - loss: 0.0923 - acc: 0.9680 - val_loss: 0.0050 - val_acc: 0.9630\n",
            "Epoch 19/100\n",
            "100/100 [==============================] - 25s 248ms/step - loss: 0.1076 - acc: 0.9605 - val_loss: 0.0221 - val_acc: 0.9690\n",
            "Epoch 20/100\n",
            "100/100 [==============================] - 25s 247ms/step - loss: 0.0952 - acc: 0.9630 - val_loss: 0.0145 - val_acc: 0.9620\n",
            "Epoch 21/100\n",
            "100/100 [==============================] - 25s 248ms/step - loss: 0.0853 - acc: 0.9710 - val_loss: 0.0222 - val_acc: 0.9680\n",
            "Epoch 22/100\n",
            "100/100 [==============================] - 25s 246ms/step - loss: 0.0691 - acc: 0.9720 - val_loss: 0.2846 - val_acc: 0.9620\n",
            "Epoch 23/100\n",
            "100/100 [==============================] - 25s 246ms/step - loss: 0.0902 - acc: 0.9695 - val_loss: 0.1979 - val_acc: 0.9660\n",
            "Epoch 24/100\n",
            "100/100 [==============================] - 25s 246ms/step - loss: 0.0795 - acc: 0.9735 - val_loss: 0.0145 - val_acc: 0.9660\n",
            "Epoch 25/100\n",
            "100/100 [==============================] - 25s 247ms/step - loss: 0.0892 - acc: 0.9680 - val_loss: 0.0187 - val_acc: 0.9680\n",
            "Epoch 26/100\n",
            "100/100 [==============================] - 25s 247ms/step - loss: 0.0697 - acc: 0.9725 - val_loss: 0.0408 - val_acc: 0.9650\n",
            "Epoch 27/100\n",
            "100/100 [==============================] - 25s 246ms/step - loss: 0.0650 - acc: 0.9790 - val_loss: 0.0287 - val_acc: 0.9640\n",
            "Epoch 28/100\n",
            "100/100 [==============================] - 25s 246ms/step - loss: 0.0673 - acc: 0.9710 - val_loss: 0.0655 - val_acc: 0.9680\n",
            "Epoch 29/100\n",
            "100/100 [==============================] - 25s 247ms/step - loss: 0.0769 - acc: 0.9720 - val_loss: 0.0057 - val_acc: 0.9760\n",
            "Epoch 30/100\n",
            "100/100 [==============================] - 25s 248ms/step - loss: 0.0764 - acc: 0.9745 - val_loss: 0.0184 - val_acc: 0.9690\n",
            "Epoch 31/100\n",
            "100/100 [==============================] - 25s 246ms/step - loss: 0.0614 - acc: 0.9805 - val_loss: 0.0594 - val_acc: 0.9710\n",
            "Epoch 32/100\n",
            "100/100 [==============================] - 25s 247ms/step - loss: 0.0557 - acc: 0.9795 - val_loss: 0.0277 - val_acc: 0.9720\n",
            "Epoch 33/100\n",
            "100/100 [==============================] - 25s 247ms/step - loss: 0.0724 - acc: 0.9730 - val_loss: 0.1807 - val_acc: 0.9670\n",
            "Epoch 34/100\n",
            "100/100 [==============================] - 25s 248ms/step - loss: 0.0525 - acc: 0.9795 - val_loss: 0.0382 - val_acc: 0.9730\n",
            "Epoch 35/100\n",
            "100/100 [==============================] - 25s 246ms/step - loss: 0.0537 - acc: 0.9790 - val_loss: 0.1708 - val_acc: 0.9720\n",
            "Epoch 36/100\n",
            "100/100 [==============================] - 25s 247ms/step - loss: 0.0629 - acc: 0.9740 - val_loss: 0.3030 - val_acc: 0.9680\n",
            "Epoch 37/100\n",
            "100/100 [==============================] - 25s 246ms/step - loss: 0.0520 - acc: 0.9825 - val_loss: 0.0990 - val_acc: 0.9750\n",
            "Epoch 38/100\n",
            "100/100 [==============================] - 25s 246ms/step - loss: 0.0524 - acc: 0.9800 - val_loss: 0.0208 - val_acc: 0.9730\n",
            "Epoch 39/100\n",
            "100/100 [==============================] - 25s 247ms/step - loss: 0.0555 - acc: 0.9815 - val_loss: 0.0010 - val_acc: 0.9730\n",
            "Epoch 40/100\n",
            "100/100 [==============================] - 25s 246ms/step - loss: 0.0423 - acc: 0.9875 - val_loss: 0.0042 - val_acc: 0.9710\n",
            "Epoch 41/100\n",
            "100/100 [==============================] - 25s 246ms/step - loss: 0.0324 - acc: 0.9895 - val_loss: 0.0934 - val_acc: 0.9720\n",
            "Epoch 42/100\n",
            "100/100 [==============================] - 25s 247ms/step - loss: 0.0651 - acc: 0.9805 - val_loss: 0.0274 - val_acc: 0.9750\n",
            "Epoch 43/100\n",
            "100/100 [==============================] - 25s 247ms/step - loss: 0.0432 - acc: 0.9865 - val_loss: 0.0100 - val_acc: 0.9710\n",
            "Epoch 44/100\n",
            "100/100 [==============================] - 25s 247ms/step - loss: 0.0447 - acc: 0.9860 - val_loss: 0.0487 - val_acc: 0.9710\n",
            "Epoch 45/100\n",
            "100/100 [==============================] - 25s 246ms/step - loss: 0.0370 - acc: 0.9880 - val_loss: 0.2863 - val_acc: 0.9710\n",
            "Epoch 46/100\n",
            "100/100 [==============================] - 25s 247ms/step - loss: 0.0392 - acc: 0.9840 - val_loss: 0.0702 - val_acc: 0.9700\n",
            "Epoch 47/100\n",
            "100/100 [==============================] - 25s 246ms/step - loss: 0.0420 - acc: 0.9860 - val_loss: 0.0031 - val_acc: 0.9740\n",
            "Epoch 48/100\n",
            "100/100 [==============================] - 25s 246ms/step - loss: 0.0382 - acc: 0.9865 - val_loss: 0.3197 - val_acc: 0.9730\n",
            "Epoch 49/100\n",
            "100/100 [==============================] - 25s 248ms/step - loss: 0.0316 - acc: 0.9885 - val_loss: 0.2277 - val_acc: 0.9700\n",
            "Epoch 50/100\n",
            "100/100 [==============================] - 25s 247ms/step - loss: 0.0298 - acc: 0.9875 - val_loss: 0.0275 - val_acc: 0.9730\n",
            "Epoch 51/100\n",
            "100/100 [==============================] - 25s 245ms/step - loss: 0.0519 - acc: 0.9830 - val_loss: 0.1647 - val_acc: 0.9710\n",
            "Epoch 52/100\n",
            "100/100 [==============================] - 25s 248ms/step - loss: 0.0344 - acc: 0.9870 - val_loss: 0.0637 - val_acc: 0.9730\n",
            "Epoch 53/100\n",
            "100/100 [==============================] - 25s 246ms/step - loss: 0.0366 - acc: 0.9865 - val_loss: 0.0447 - val_acc: 0.9720\n",
            "Epoch 54/100\n",
            "100/100 [==============================] - 25s 247ms/step - loss: 0.0510 - acc: 0.9850 - val_loss: 0.0253 - val_acc: 0.9740\n",
            "Epoch 55/100\n",
            "100/100 [==============================] - 25s 246ms/step - loss: 0.0289 - acc: 0.9895 - val_loss: 0.2582 - val_acc: 0.9740\n",
            "Epoch 56/100\n",
            "100/100 [==============================] - 25s 247ms/step - loss: 0.0322 - acc: 0.9895 - val_loss: 6.7843e-04 - val_acc: 0.9730\n",
            "Epoch 57/100\n",
            "100/100 [==============================] - 25s 246ms/step - loss: 0.0381 - acc: 0.9885 - val_loss: 0.0644 - val_acc: 0.9740\n",
            "Epoch 58/100\n",
            "100/100 [==============================] - 25s 247ms/step - loss: 0.0396 - acc: 0.9855 - val_loss: 0.0012 - val_acc: 0.9750\n",
            "Epoch 59/100\n",
            "100/100 [==============================] - 25s 248ms/step - loss: 0.0220 - acc: 0.9930 - val_loss: 0.0054 - val_acc: 0.9690\n",
            "Epoch 60/100\n",
            "100/100 [==============================] - 25s 246ms/step - loss: 0.0267 - acc: 0.9915 - val_loss: 0.4106 - val_acc: 0.9730\n",
            "Epoch 61/100\n",
            "100/100 [==============================] - 25s 246ms/step - loss: 0.0346 - acc: 0.9890 - val_loss: 0.0030 - val_acc: 0.9730\n",
            "Epoch 62/100\n",
            "100/100 [==============================] - 25s 247ms/step - loss: 0.0263 - acc: 0.9915 - val_loss: 0.1883 - val_acc: 0.9750\n",
            "Epoch 63/100\n",
            "100/100 [==============================] - 25s 248ms/step - loss: 0.0281 - acc: 0.9925 - val_loss: 0.0131 - val_acc: 0.9740\n",
            "Epoch 64/100\n",
            "100/100 [==============================] - 25s 246ms/step - loss: 0.0216 - acc: 0.9925 - val_loss: 4.2937e-04 - val_acc: 0.9720\n",
            "Epoch 65/100\n",
            "100/100 [==============================] - 25s 247ms/step - loss: 0.0213 - acc: 0.9920 - val_loss: 0.0028 - val_acc: 0.9740\n",
            "Epoch 66/100\n",
            "100/100 [==============================] - 25s 246ms/step - loss: 0.0342 - acc: 0.9905 - val_loss: 0.1016 - val_acc: 0.9750\n",
            "Epoch 67/100\n",
            "100/100 [==============================] - 25s 246ms/step - loss: 0.0258 - acc: 0.9915 - val_loss: 7.5949e-04 - val_acc: 0.9710\n",
            "Epoch 68/100\n",
            "100/100 [==============================] - 25s 247ms/step - loss: 0.0269 - acc: 0.9895 - val_loss: 0.1579 - val_acc: 0.9760\n",
            "Epoch 69/100\n",
            "100/100 [==============================] - 25s 247ms/step - loss: 0.0388 - acc: 0.9875 - val_loss: 0.4537 - val_acc: 0.9770\n",
            "Epoch 70/100\n",
            "100/100 [==============================] - 25s 246ms/step - loss: 0.0270 - acc: 0.9915 - val_loss: 0.0037 - val_acc: 0.9770\n",
            "Epoch 71/100\n",
            "100/100 [==============================] - 25s 246ms/step - loss: 0.0175 - acc: 0.9925 - val_loss: 0.1194 - val_acc: 0.9730\n",
            "Epoch 72/100\n",
            "100/100 [==============================] - 25s 248ms/step - loss: 0.0240 - acc: 0.9925 - val_loss: 0.0022 - val_acc: 0.9760\n",
            "Epoch 73/100\n",
            "100/100 [==============================] - 25s 247ms/step - loss: 0.0333 - acc: 0.9880 - val_loss: 0.2811 - val_acc: 0.9750\n",
            "Epoch 74/100\n",
            "100/100 [==============================] - 25s 246ms/step - loss: 0.0244 - acc: 0.9920 - val_loss: 0.2649 - val_acc: 0.9740\n",
            "Epoch 75/100\n",
            "100/100 [==============================] - 25s 247ms/step - loss: 0.0235 - acc: 0.9940 - val_loss: 0.0010 - val_acc: 0.9760\n",
            "Epoch 76/100\n",
            "100/100 [==============================] - 25s 246ms/step - loss: 0.0265 - acc: 0.9915 - val_loss: 0.0257 - val_acc: 0.9750\n",
            "Epoch 77/100\n",
            "100/100 [==============================] - 25s 245ms/step - loss: 0.0246 - acc: 0.9925 - val_loss: 9.0236e-04 - val_acc: 0.9750\n",
            "Epoch 78/100\n",
            "100/100 [==============================] - 25s 246ms/step - loss: 0.0257 - acc: 0.9895 - val_loss: 7.9769e-04 - val_acc: 0.9750\n",
            "Epoch 79/100\n",
            "100/100 [==============================] - 25s 245ms/step - loss: 0.0279 - acc: 0.9880 - val_loss: 2.9024e-04 - val_acc: 0.9720\n",
            "Epoch 80/100\n",
            "100/100 [==============================] - 25s 245ms/step - loss: 0.0340 - acc: 0.9870 - val_loss: 0.0011 - val_acc: 0.9750\n",
            "Epoch 81/100\n",
            "100/100 [==============================] - 25s 245ms/step - loss: 0.0156 - acc: 0.9935 - val_loss: 0.0092 - val_acc: 0.9740\n",
            "Epoch 82/100\n",
            "100/100 [==============================] - 25s 245ms/step - loss: 0.0230 - acc: 0.9930 - val_loss: 0.0397 - val_acc: 0.9760\n",
            "Epoch 83/100\n",
            "100/100 [==============================] - 25s 245ms/step - loss: 0.0286 - acc: 0.9910 - val_loss: 0.4456 - val_acc: 0.9740\n",
            "Epoch 84/100\n",
            "100/100 [==============================] - 25s 246ms/step - loss: 0.0177 - acc: 0.9930 - val_loss: 0.0239 - val_acc: 0.9730\n",
            "Epoch 85/100\n",
            "100/100 [==============================] - 25s 247ms/step - loss: 0.0131 - acc: 0.9940 - val_loss: 0.1956 - val_acc: 0.9740\n",
            "Epoch 86/100\n",
            "100/100 [==============================] - 25s 245ms/step - loss: 0.0187 - acc: 0.9930 - val_loss: 0.0042 - val_acc: 0.9740\n",
            "Epoch 87/100\n",
            "100/100 [==============================] - 25s 245ms/step - loss: 0.0168 - acc: 0.9935 - val_loss: 0.3088 - val_acc: 0.9760\n",
            "Epoch 88/100\n",
            "100/100 [==============================] - 25s 246ms/step - loss: 0.0222 - acc: 0.9920 - val_loss: 0.2524 - val_acc: 0.9740\n",
            "Epoch 89/100\n",
            "100/100 [==============================] - 25s 245ms/step - loss: 0.0264 - acc: 0.9940 - val_loss: 0.0137 - val_acc: 0.9740\n",
            "Epoch 90/100\n",
            "100/100 [==============================] - 25s 245ms/step - loss: 0.0250 - acc: 0.9925 - val_loss: 0.1856 - val_acc: 0.9740\n",
            "Epoch 91/100\n",
            "100/100 [==============================] - 25s 247ms/step - loss: 0.0128 - acc: 0.9955 - val_loss: 0.4363 - val_acc: 0.9740\n",
            "Epoch 92/100\n",
            "100/100 [==============================] - 25s 245ms/step - loss: 0.0161 - acc: 0.9955 - val_loss: 3.9562e-04 - val_acc: 0.9760\n",
            "Epoch 93/100\n",
            "100/100 [==============================] - 25s 246ms/step - loss: 0.0171 - acc: 0.9940 - val_loss: 4.4360e-04 - val_acc: 0.9760\n",
            "Epoch 94/100\n",
            "100/100 [==============================] - 26s 259ms/step - loss: 0.0211 - acc: 0.9935 - val_loss: 1.7476e-04 - val_acc: 0.9770\n",
            "Epoch 95/100\n",
            "100/100 [==============================] - 25s 248ms/step - loss: 0.0173 - acc: 0.9940 - val_loss: 0.0558 - val_acc: 0.9790\n",
            "Epoch 96/100\n",
            "100/100 [==============================] - 25s 248ms/step - loss: 0.0192 - acc: 0.9925 - val_loss: 5.3398e-04 - val_acc: 0.9750\n",
            "Epoch 97/100\n",
            "100/100 [==============================] - 25s 247ms/step - loss: 0.0293 - acc: 0.9895 - val_loss: 0.0091 - val_acc: 0.9740\n",
            "Epoch 98/100\n",
            "100/100 [==============================] - 25s 249ms/step - loss: 0.0137 - acc: 0.9955 - val_loss: 2.0088e-04 - val_acc: 0.9780\n",
            "Epoch 99/100\n",
            "100/100 [==============================] - 25s 247ms/step - loss: 0.0201 - acc: 0.9940 - val_loss: 0.0012 - val_acc: 0.9790\n",
            "Epoch 100/100\n",
            "100/100 [==============================] - 25s 247ms/step - loss: 0.0211 - acc: 0.9930 - val_loss: 0.2145 - val_acc: 0.9750\n"
          ],
          "name": "stdout"
        }
      ]
    },
    {
      "cell_type": "markdown",
      "metadata": {
        "id": "eVBQgh5M-Rtz",
        "colab_type": "text"
      },
      "source": [
        "## Display learning curves during fine-tuning"
      ]
    },
    {
      "cell_type": "code",
      "metadata": {
        "id": "mbkIw7Ie-NP4",
        "colab_type": "code",
        "outputId": "2ac8948f-3f4a-409c-f1a3-d130d093bba7",
        "colab": {
          "base_uri": "https://localhost:8080/",
          "height": 545
        }
      },
      "source": [
        "%matplotlib inline\n",
        "\n",
        "import matplotlib.pyplot as plt\n",
        "\n",
        "acc = history.history['acc']\n",
        "val_acc = history.history['val_acc']\n",
        "\n",
        "loss = history.history['loss']\n",
        "val_loss = history.history['val_loss']\n",
        "\n",
        "epochs = range(1, len(acc) + 1)\n",
        "\n",
        "# training and validation accuracy\n",
        "\n",
        "plt.plot(epochs, acc, 'bo', label='training acc')\n",
        "plt.plot(epochs, val_acc, 'b', label='validation acc')\n",
        "plt.title('training and validation accuracy')\n",
        "plt.legend()\n",
        "\n",
        "plt.figure()\n",
        "\n",
        "# training and validation loss\n",
        "\n",
        "plt.plot(epochs, loss, 'bo', label='training loss')\n",
        "plt.plot(epochs, val_loss, 'b', label='validation loss')\n",
        "plt.title('training and validation loss')\n",
        "plt.legend()\n",
        "\n",
        "plt.show()"
      ],
      "execution_count": 12,
      "outputs": [
        {
          "output_type": "display_data",
          "data": {
            "image/png": "[encoded data removed]",
            "text/plain": [
              "<Figure size 432x288 with 1 Axes>"
            ]
          },
          "metadata": {
            "tags": [],
            "needs_background": "light"
          }
        },
        {
          "output_type": "display_data",
          "data": {
            "image/png": "[encoded data removed]",
            "text/plain": [
              "<Figure size 432x288 with 1 Axes>"
            ]
          },
          "metadata": {
            "tags": [],
            "needs_background": "light"
          }
        }
      ]
    },
    {
      "cell_type": "markdown",
      "metadata": {
        "id": "he3Nw6TOJwjx",
        "colab_type": "text"
      },
      "source": [
        "## Print out validation loss and accuracy"
      ]
    },
    {
      "cell_type": "code",
      "metadata": {
        "id": "SVQtrk7uJdhl",
        "colab_type": "code",
        "colab": {}
      },
      "source": [
        "val_loss, val_acc = model.evaluate_generator(validation_generator, steps=50)"
      ],
      "execution_count": 0,
      "outputs": []
    },
    {
      "cell_type": "code",
      "metadata": {
        "id": "HpdddLi1SUMe",
        "colab_type": "code",
        "outputId": "a72687e1-84e5-462f-c413-b26993dfd311",
        "colab": {
          "base_uri": "https://localhost:8080/",
          "height": 50
        }
      },
      "source": [
        "print(\"Validation loss:\", val_loss)\n",
        "print(\"Validation accuracy:\", val_acc)"
      ],
      "execution_count": 14,
      "outputs": [
        {
          "output_type": "stream",
          "text": [
            "Validation loss: 0.000972941517829895\n",
            "Validation accuracy: 0.9750000238418579\n"
          ],
          "name": "stdout"
        }
      ]
    },
    {
      "cell_type": "markdown",
      "metadata": {
        "id": "7Ww756WToby8",
        "colab_type": "text"
      },
      "source": [
        "## Save the model"
      ]
    },
    {
      "cell_type": "code",
      "metadata": {
        "id": "0lTUpUdwobKW",
        "colab_type": "code",
        "colab": {}
      },
      "source": [
        "model_fname = 'cats_and_dogs_small_4.h5' \n",
        "model.save(model_fname)"
      ],
      "execution_count": 0,
      "outputs": []
    },
    {
      "cell_type": "code",
      "metadata": {
        "id": "YhEoI8ZTok-X",
        "colab_type": "code",
        "colab": {
          "base_uri": "https://localhost:8080/",
          "height": 437
        },
        "outputId": "87efdc62-da1f-4fc9-eeb7-3983faa40f5c"
      },
      "source": [
        "from google.colab import files\n",
        "\n",
        "with open(model_fname, 'r') as f:\n",
        "  files.download(model_fname)"
      ],
      "execution_count": 0,
      "outputs": [
        {
          "output_type": "stream",
          "text": [
            "----------------------------------------\n",
            "Exception happened during processing of request from ('::ffff:127.0.0.1', 50898, 0, 0)\n",
            "Traceback (most recent call last):\n",
            "  File \"/usr/lib/python3.6/socketserver.py\", line 320, in _handle_request_noblock\n",
            "    self.process_request(request, client_address)\n",
            "  File \"/usr/lib/python3.6/socketserver.py\", line 351, in process_request\n",
            "    self.finish_request(request, client_address)\n",
            "  File \"/usr/lib/python3.6/socketserver.py\", line 364, in finish_request\n",
            "    self.RequestHandlerClass(request, client_address, self)\n",
            "  File \"/usr/lib/python3.6/socketserver.py\", line 724, in __init__\n",
            "    self.handle()\n",
            "  File \"/usr/lib/python3.6/http/server.py\", line 418, in handle\n",
            "    self.handle_one_request()\n",
            "  File \"/usr/lib/python3.6/http/server.py\", line 406, in handle_one_request\n",
            "    method()\n",
            "  File \"/usr/lib/python3.6/http/server.py\", line 639, in do_GET\n",
            "    self.copyfile(f, self.wfile)\n",
            "  File \"/usr/lib/python3.6/http/server.py\", line 800, in copyfile\n",
            "    shutil.copyfileobj(source, outputfile)\n",
            "  File \"/usr/lib/python3.6/shutil.py\", line 82, in copyfileobj\n",
            "    fdst.write(buf)\n",
            "  File \"/usr/lib/python3.6/socketserver.py\", line 803, in write\n",
            "    self._sock.sendall(b)\n",
            "ConnectionResetError: [Errno 104] Connection reset by peer\n",
            "----------------------------------------\n"
          ],
          "name": "stderr"
        }
      ]
    }
  ]
}