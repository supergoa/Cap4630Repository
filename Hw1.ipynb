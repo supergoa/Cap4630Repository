{
  "nbformat": 4,
  "nbformat_minor": 0,
  "metadata": {
    "colab": {
      "name": "Hw1.ipynb",
      "provenance": [],
      "collapsed_sections": [],
      "authorship_tag": "ABX9TyPcvPQ6TNrCTEezeJUmnITl",
      "include_colab_link": true
    },
    "kernelspec": {
      "name": "python3",
      "display_name": "Python 3"
    }
  },
  "cells": [
    {
      "cell_type": "markdown",
      "metadata": {
        "id": "view-in-github",
        "colab_type": "text"
      },
      "source": [
        "<a href=\"https://colab.research.google.com/github/supergoa/Cap4630Repository/blob/master/Hw1.ipynb\" target=\"_parent\"><img src=\"https://colab.research.google.com/assets/colab-badge.svg\" alt=\"Open In Colab\"/></a>"
      ]
    },
    {
      "cell_type": "markdown",
      "metadata": {
        "id": "cuHgkwkrGwdA",
        "colab_type": "text"
      },
      "source": [
        "This assignment's purpose is to become familiar with colab. I will demonstrate code that mulitplies an array of matricies. \n",
        "\n",
        "# **Matrix multiplication**\n",
        "Before contining, let's review matrix multiplication. Matricies are compatible if the column dimension of your left matrix matches the row dimension of your right matrix. In this case, there are 3 columns in the matrix containing only numbers and there are 3 rows in the matrix containing only letters; therefore, they are compatible. Multiplication then occurs by multiplying the first row in the left matrix, with each column in the right matrix, and then adding up the multiplied values. Then we will multiply the second row of the left matrix, with each column in the right matrix (and so on for larger matricies). \n",
        "\n",
        "$\\begin{bmatrix} 1 & 2 & 3\\\\4 & 5 & 6\\end{bmatrix}$ * $\\begin{bmatrix}\n",
        "a & b & c\\\\\n",
        "d & e & f\\\\\n",
        "g & h & i\n",
        "\\end{bmatrix}$ = $\\begin{bmatrix}a + 2 d + 3 g & b + 2 e + 3 h & c + 2 f + 3 i\\\\4 a + 5 d + 6 g & 4 b + 5 e + 6 h & 4 c + 5 f + 6 i\\end{bmatrix}$\n"
      ]
    },
    {
      "cell_type": "markdown",
      "metadata": {
        "id": "kP2phf5FHURm",
        "colab_type": "text"
      },
      "source": [
        " For future reference, let's define some matricies to test the following code."
      ]
    },
    {
      "cell_type": "code",
      "metadata": {
        "id": "bBBIHYXUHAXP",
        "colab_type": "code",
        "colab": {}
      },
      "source": [
        "import numpy as np\n",
        "mat1 = np.array([[1, 2, 3], [4, 5, 6]]) # 2 x 3 matrix\n",
        "mat2 = np.array([[1, 2], [3, 4], [5, 6]]) # 3 x 2 matrix\n",
        "mat3 = np.array([[1, 2], [3, 4]]) # 2 x 2 matrix\n",
        "list = [mat1, mat2, mat3]"
      ],
      "execution_count": 0,
      "outputs": []
    },
    {
      "cell_type": "markdown",
      "metadata": {
        "id": "OWvPepIubuMK",
        "colab_type": "text"
      },
      "source": [
        "Now, run the following code block to see the result of multiplying mat1, mat2, and mat3."
      ]
    },
    {
      "cell_type": "code",
      "metadata": {
        "id": "VLaXMrf6Cr-v",
        "colab_type": "code",
        "outputId": "b758849b-c248-4e59-a903-1362820b1263",
        "colab": {
          "base_uri": "https://localhost:8080/",
          "height": 51
        }
      },
      "source": [
        "class emptyListError(Exception):\n",
        "   pass\n",
        "\n",
        "class incompatibleMatricesError(Exception):\n",
        "   pass\n",
        "\n",
        "def multiply_matrices (list):\n",
        "  if len(list) == 0:\n",
        "    raise emptyListError(\"The list passed cannot be empty.\")\n",
        "  currentMatrix = list[0]\n",
        "  for i in range(1, len(list), 1):\n",
        "    if len(currentMatrix[0]) != len(list[i]):\n",
        "      raise incompatibleMatricesError(\"The following matricies are incompatibile:\\n\" + str(np.matrix(list[i-1]))+\"\\nand\\n\"+str(np.matrix(list[i]))) #str(np.matrix.tostring(list[i-1]))+' '+np.matrix.tostring(len[i])\n",
        "    currentMatrix = np.matmul(currentMatrix, list[i])\n",
        "  print(currentMatrix)\n",
        "multiply_matrices (list)"
      ],
      "execution_count": 95,
      "outputs": [
        {
          "output_type": "stream",
          "text": [
            "[[106 156]\n",
            " [241 354]]\n"
          ],
          "name": "stdout"
        }
      ]
    },
    {
      "cell_type": "markdown",
      "metadata": {
        "id": "TvwQN-QlDGSg",
        "colab_type": "text"
      },
      "source": [
        "Notice how if we change mat3 to have an additional column, an incompatibleMatricesError will be raised."
      ]
    },
    {
      "cell_type": "code",
      "metadata": {
        "id": "Fn03A9cMb_kL",
        "colab_type": "code",
        "colab": {
          "base_uri": "https://localhost:8080/",
          "height": 455
        },
        "outputId": "789e3fff-c90c-4f98-cfeb-94df3e02ac4d"
      },
      "source": [
        "mat3 = np.array([[1, 2], [3, 4], [4, 5]]) # 3 x 2 matrix\n",
        "list = [mat1, mat2, mat3]\n",
        "multiply_matrices (list)"
      ],
      "execution_count": 96,
      "outputs": [
        {
          "output_type": "error",
          "ename": "incompatibleMatricesError",
          "evalue": "ignored",
          "traceback": [
            "\u001b[0;31m---------------------------------------------------------------------------\u001b[0m",
            "\u001b[0;31mincompatibleMatricesError\u001b[0m                 Traceback (most recent call last)",
            "\u001b[0;32m<ipython-input-96-8bf53329476a>\u001b[0m in \u001b[0;36m<module>\u001b[0;34m()\u001b[0m\n\u001b[1;32m      1\u001b[0m \u001b[0mmat3\u001b[0m \u001b[0;34m=\u001b[0m \u001b[0mnp\u001b[0m\u001b[0;34m.\u001b[0m\u001b[0marray\u001b[0m\u001b[0;34m(\u001b[0m\u001b[0;34m[\u001b[0m\u001b[0;34m[\u001b[0m\u001b[0;36m1\u001b[0m\u001b[0;34m,\u001b[0m \u001b[0;36m2\u001b[0m\u001b[0;34m]\u001b[0m\u001b[0;34m,\u001b[0m \u001b[0;34m[\u001b[0m\u001b[0;36m3\u001b[0m\u001b[0;34m,\u001b[0m \u001b[0;36m4\u001b[0m\u001b[0;34m]\u001b[0m\u001b[0;34m,\u001b[0m \u001b[0;34m[\u001b[0m\u001b[0;36m4\u001b[0m\u001b[0;34m,\u001b[0m \u001b[0;36m5\u001b[0m\u001b[0;34m]\u001b[0m\u001b[0;34m]\u001b[0m\u001b[0;34m)\u001b[0m \u001b[0;31m# 3 x 2 matrix\u001b[0m\u001b[0;34m\u001b[0m\u001b[0;34m\u001b[0m\u001b[0m\n\u001b[1;32m      2\u001b[0m \u001b[0mlist\u001b[0m \u001b[0;34m=\u001b[0m \u001b[0;34m[\u001b[0m\u001b[0mmat1\u001b[0m\u001b[0;34m,\u001b[0m \u001b[0mmat2\u001b[0m\u001b[0;34m,\u001b[0m \u001b[0mmat3\u001b[0m\u001b[0;34m]\u001b[0m\u001b[0;34m\u001b[0m\u001b[0;34m\u001b[0m\u001b[0m\n\u001b[0;32m----> 3\u001b[0;31m \u001b[0mmultiply_matrices\u001b[0m \u001b[0;34m(\u001b[0m\u001b[0mlist\u001b[0m\u001b[0;34m)\u001b[0m\u001b[0;34m\u001b[0m\u001b[0;34m\u001b[0m\u001b[0m\n\u001b[0m",
            "\u001b[0;32m<ipython-input-95-88f99b40a7ad>\u001b[0m in \u001b[0;36mmultiply_matrices\u001b[0;34m(list)\u001b[0m\n\u001b[1;32m     11\u001b[0m   \u001b[0;32mfor\u001b[0m \u001b[0mi\u001b[0m \u001b[0;32min\u001b[0m \u001b[0mrange\u001b[0m\u001b[0;34m(\u001b[0m\u001b[0;36m1\u001b[0m\u001b[0;34m,\u001b[0m \u001b[0mlen\u001b[0m\u001b[0;34m(\u001b[0m\u001b[0mlist\u001b[0m\u001b[0;34m)\u001b[0m\u001b[0;34m,\u001b[0m \u001b[0;36m1\u001b[0m\u001b[0;34m)\u001b[0m\u001b[0;34m:\u001b[0m\u001b[0;34m\u001b[0m\u001b[0;34m\u001b[0m\u001b[0m\n\u001b[1;32m     12\u001b[0m     \u001b[0;32mif\u001b[0m \u001b[0mlen\u001b[0m\u001b[0;34m(\u001b[0m\u001b[0mcurrentMatrix\u001b[0m\u001b[0;34m[\u001b[0m\u001b[0;36m0\u001b[0m\u001b[0;34m]\u001b[0m\u001b[0;34m)\u001b[0m \u001b[0;34m!=\u001b[0m \u001b[0mlen\u001b[0m\u001b[0;34m(\u001b[0m\u001b[0mlist\u001b[0m\u001b[0;34m[\u001b[0m\u001b[0mi\u001b[0m\u001b[0;34m]\u001b[0m\u001b[0;34m)\u001b[0m\u001b[0;34m:\u001b[0m\u001b[0;34m\u001b[0m\u001b[0;34m\u001b[0m\u001b[0m\n\u001b[0;32m---> 13\u001b[0;31m       \u001b[0;32mraise\u001b[0m \u001b[0mincompatibleMatricesError\u001b[0m\u001b[0;34m(\u001b[0m\u001b[0;34m\"The following matricies are incompatibile:\\n\"\u001b[0m \u001b[0;34m+\u001b[0m \u001b[0mstr\u001b[0m\u001b[0;34m(\u001b[0m\u001b[0mnp\u001b[0m\u001b[0;34m.\u001b[0m\u001b[0mmatrix\u001b[0m\u001b[0;34m(\u001b[0m\u001b[0mlist\u001b[0m\u001b[0;34m[\u001b[0m\u001b[0mi\u001b[0m\u001b[0;34m-\u001b[0m\u001b[0;36m1\u001b[0m\u001b[0;34m]\u001b[0m\u001b[0;34m)\u001b[0m\u001b[0;34m)\u001b[0m\u001b[0;34m+\u001b[0m\u001b[0;34m\"\\nand\\n\"\u001b[0m\u001b[0;34m+\u001b[0m\u001b[0mstr\u001b[0m\u001b[0;34m(\u001b[0m\u001b[0mnp\u001b[0m\u001b[0;34m.\u001b[0m\u001b[0mmatrix\u001b[0m\u001b[0;34m(\u001b[0m\u001b[0mlist\u001b[0m\u001b[0;34m[\u001b[0m\u001b[0mi\u001b[0m\u001b[0;34m]\u001b[0m\u001b[0;34m)\u001b[0m\u001b[0;34m)\u001b[0m\u001b[0;34m)\u001b[0m \u001b[0;31m#str(np.matrix.tostring(list[i-1]))+' '+np.matrix.tostring(len[i])\u001b[0m\u001b[0;34m\u001b[0m\u001b[0;34m\u001b[0m\u001b[0m\n\u001b[0m\u001b[1;32m     14\u001b[0m     \u001b[0mcurrentMatrix\u001b[0m \u001b[0;34m=\u001b[0m \u001b[0mnp\u001b[0m\u001b[0;34m.\u001b[0m\u001b[0mmatmul\u001b[0m\u001b[0;34m(\u001b[0m\u001b[0mcurrentMatrix\u001b[0m\u001b[0;34m,\u001b[0m \u001b[0mlist\u001b[0m\u001b[0;34m[\u001b[0m\u001b[0mi\u001b[0m\u001b[0;34m]\u001b[0m\u001b[0;34m)\u001b[0m\u001b[0;34m\u001b[0m\u001b[0;34m\u001b[0m\u001b[0m\n\u001b[1;32m     15\u001b[0m   \u001b[0mprint\u001b[0m\u001b[0;34m(\u001b[0m\u001b[0mcurrentMatrix\u001b[0m\u001b[0;34m)\u001b[0m\u001b[0;34m\u001b[0m\u001b[0;34m\u001b[0m\u001b[0m\n",
            "\u001b[0;31mincompatibleMatricesError\u001b[0m: The following matricies are incompatibile:\n[[1 2]\n [3 4]\n [5 6]]\nand\n[[1 2]\n [3 4]\n [4 5]]"
          ]
        }
      ]
    },
    {
      "cell_type": "markdown",
      "metadata": {
        "id": "PtUEIVsqYNOv",
        "colab_type": "text"
      },
      "source": [
        "Also notice that you will get an error if you pass an empty list."
      ]
    },
    {
      "cell_type": "code",
      "metadata": {
        "id": "9XSEvpMucX1j",
        "colab_type": "code",
        "colab": {
          "base_uri": "https://localhost:8080/",
          "height": 299
        },
        "outputId": "d4d245f4-38b2-4c09-830a-df9f73e8ff0f"
      },
      "source": [
        "list = []\n",
        "multiply_matrices (list)"
      ],
      "execution_count": 97,
      "outputs": [
        {
          "output_type": "error",
          "ename": "emptyListError",
          "evalue": "ignored",
          "traceback": [
            "\u001b[0;31m---------------------------------------------------------------------------\u001b[0m",
            "\u001b[0;31memptyListError\u001b[0m                            Traceback (most recent call last)",
            "\u001b[0;32m<ipython-input-97-b379181a42f9>\u001b[0m in \u001b[0;36m<module>\u001b[0;34m()\u001b[0m\n\u001b[1;32m      1\u001b[0m \u001b[0mlist\u001b[0m \u001b[0;34m=\u001b[0m \u001b[0;34m[\u001b[0m\u001b[0;34m]\u001b[0m\u001b[0;34m\u001b[0m\u001b[0;34m\u001b[0m\u001b[0m\n\u001b[0;32m----> 2\u001b[0;31m \u001b[0mmultiply_matrices\u001b[0m \u001b[0;34m(\u001b[0m\u001b[0mlist\u001b[0m\u001b[0;34m)\u001b[0m\u001b[0;34m\u001b[0m\u001b[0;34m\u001b[0m\u001b[0m\n\u001b[0m",
            "\u001b[0;32m<ipython-input-95-88f99b40a7ad>\u001b[0m in \u001b[0;36mmultiply_matrices\u001b[0;34m(list)\u001b[0m\n\u001b[1;32m      7\u001b[0m \u001b[0;32mdef\u001b[0m \u001b[0mmultiply_matrices\u001b[0m \u001b[0;34m(\u001b[0m\u001b[0mlist\u001b[0m\u001b[0;34m)\u001b[0m\u001b[0;34m:\u001b[0m\u001b[0;34m\u001b[0m\u001b[0;34m\u001b[0m\u001b[0m\n\u001b[1;32m      8\u001b[0m   \u001b[0;32mif\u001b[0m \u001b[0mlen\u001b[0m\u001b[0;34m(\u001b[0m\u001b[0mlist\u001b[0m\u001b[0;34m)\u001b[0m \u001b[0;34m==\u001b[0m \u001b[0;36m0\u001b[0m\u001b[0;34m:\u001b[0m\u001b[0;34m\u001b[0m\u001b[0;34m\u001b[0m\u001b[0m\n\u001b[0;32m----> 9\u001b[0;31m     \u001b[0;32mraise\u001b[0m \u001b[0memptyListError\u001b[0m\u001b[0;34m(\u001b[0m\u001b[0;34m\"The list passed cannot be empty.\"\u001b[0m\u001b[0;34m)\u001b[0m\u001b[0;34m\u001b[0m\u001b[0;34m\u001b[0m\u001b[0m\n\u001b[0m\u001b[1;32m     10\u001b[0m   \u001b[0mcurrentMatrix\u001b[0m \u001b[0;34m=\u001b[0m \u001b[0mlist\u001b[0m\u001b[0;34m[\u001b[0m\u001b[0;36m0\u001b[0m\u001b[0;34m]\u001b[0m\u001b[0;34m\u001b[0m\u001b[0;34m\u001b[0m\u001b[0m\n\u001b[1;32m     11\u001b[0m   \u001b[0;32mfor\u001b[0m \u001b[0mi\u001b[0m \u001b[0;32min\u001b[0m \u001b[0mrange\u001b[0m\u001b[0;34m(\u001b[0m\u001b[0;36m1\u001b[0m\u001b[0;34m,\u001b[0m \u001b[0mlen\u001b[0m\u001b[0;34m(\u001b[0m\u001b[0mlist\u001b[0m\u001b[0;34m)\u001b[0m\u001b[0;34m,\u001b[0m \u001b[0;36m1\u001b[0m\u001b[0;34m)\u001b[0m\u001b[0;34m:\u001b[0m\u001b[0;34m\u001b[0m\u001b[0;34m\u001b[0m\u001b[0m\n",
            "\u001b[0;31memptyListError\u001b[0m: The list passed cannot be empty."
          ]
        }
      ]
    },
    {
      "cell_type": "markdown",
      "metadata": {
        "id": "YqeTnC4qczPk",
        "colab_type": "text"
      },
      "source": [
        "Please note, this code will only handle matricies without missing values.\n"
      ]
    }
  ]
}